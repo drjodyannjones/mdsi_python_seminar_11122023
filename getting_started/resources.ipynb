{
 "cells": [
  {
   "cell_type": "markdown",
   "id": "eb084db8-5916-4d74-b75d-19fca5ed8107",
   "metadata": {},
   "source": [
    "<div>\n",
    "<img src=\"../images/mdsi_logo.png\" width=\"200\"/>\n",
    "</div>"
   ]
  },
  {
   "cell_type": "markdown",
   "id": "90ff611b-0c4f-428a-bbaf-57cf6d22c0c7",
   "metadata": {},
   "source": [
    "The following is a curated list of resources of ebooks, websites, cheat sheets, and such that will help you when using Python and its relevant libraries for data analysis and visualization."
   ]
  },
  {
   "cell_type": "markdown",
   "id": "28127eb9-f76e-471b-98ba-6d5f64b367f1",
   "metadata": {},
   "source": [
    "# Cheatsheets"
   ]
  },
  {
   "cell_type": "markdown",
   "id": "0fe71ee0-9772-4eaa-9091-cfae4e66ea16",
   "metadata": {},
   "source": [
    "## Favio Vasquez Github Cheatsheet Repo\n",
    "https://github.com/FavioVazquez/ds-cheatsheets"
   ]
  },
  {
   "cell_type": "markdown",
   "id": "b362b679-1534-44a9-846d-a97e47496627",
   "metadata": {},
   "source": [
    "## Datacamp Data Science Cheat Sheets\n",
    "https://www.datacamp.com/cheat-sheet"
   ]
  },
  {
   "cell_type": "markdown",
   "id": "7bc226c0-691d-457e-849e-8f1b0f27f36b",
   "metadata": {},
   "source": [
    "# Books"
   ]
  },
  {
   "cell_type": "markdown",
   "id": "8bea0505-ceda-4b07-b863-51f72fe27759",
   "metadata": {
    "tags": []
   },
   "source": [
    "## Python for Data Analysis, 3E\n",
    "https://wesmckinney.com/book/"
   ]
  },
  {
   "cell_type": "markdown",
   "id": "51e3307a-e509-4109-ad2a-462f300dce09",
   "metadata": {},
   "source": [
    "## Think Python\n",
    "https://greenteapress.com/wp/think-python-2e/"
   ]
  },
  {
   "cell_type": "markdown",
   "id": "efb9b663-3c8a-4165-b980-add2eb006bd1",
   "metadata": {},
   "source": [
    "## Python Data Science Handbook\n",
    "https://jakevdp.github.io/PythonDataScienceHandbook/"
   ]
  },
  {
   "cell_type": "markdown",
   "id": "58a5743d-3dd4-430a-8af3-134e40ed0be3",
   "metadata": {},
   "source": [
    "## Automate the Boring Stuff with Python\n",
    "https://automatetheboringstuff.com/"
   ]
  },
  {
   "cell_type": "code",
   "execution_count": null,
   "id": "6ae773ef-a66c-497d-a577-238cdb2876cc",
   "metadata": {},
   "outputs": [],
   "source": []
  },
  {
   "cell_type": "markdown",
   "id": "0b9e83b0-5fb4-4193-b0d0-f6187987bac9",
   "metadata": {},
   "source": [
    "# Libraries Documentation"
   ]
  },
  {
   "cell_type": "markdown",
   "id": "0f0983ea-3dc7-4724-a3ee-716281a08365",
   "metadata": {},
   "source": [
    "## Data Extraction\n",
    "### SQL Alchemy - The Database Toolkit for Python\n",
    "https://docs.sqlalchemy.org/en/20/"
   ]
  },
  {
   "cell_type": "markdown",
   "id": "8ca8a95e-b66e-4b6f-a48b-f3e4ebfb5e38",
   "metadata": {},
   "source": [
    "## Data Transformation"
   ]
  },
  {
   "cell_type": "markdown",
   "id": "cb658639-bd6f-4a19-91d0-e12eb5e26cce",
   "metadata": {
    "tags": []
   },
   "source": [
    "### Pandas\n",
    "https://pandas.pydata.org/"
   ]
  },
  {
   "cell_type": "markdown",
   "id": "dd7e20d5-68da-44c1-8fa0-1eeb9f0059b0",
   "metadata": {},
   "source": [
    "### Feature Engine\n",
    "https://feature-engine.trainindata.com/en/latest/"
   ]
  },
  {
   "cell_type": "markdown",
   "id": "5cd845c0-b13d-44c5-96ee-8d949f7bb7c0",
   "metadata": {},
   "source": [
    "## Arrays and Scientific Computation"
   ]
  },
  {
   "cell_type": "markdown",
   "id": "a8174c2e-1989-4a68-8e00-288204b72ce4",
   "metadata": {},
   "source": [
    "### Numpy\n",
    "https://numpy.org/doc/"
   ]
  },
  {
   "cell_type": "markdown",
   "id": "e0a83962-7a0e-4f8c-af52-61684333ba9f",
   "metadata": {},
   "source": [
    "### Scipy\n",
    "https://docs.scipy.org/doc/scipy/"
   ]
  },
  {
   "cell_type": "markdown",
   "id": "994449a8-48f3-4914-81d9-29a99a0b824b",
   "metadata": {},
   "source": [
    "## Visualization"
   ]
  },
  {
   "cell_type": "markdown",
   "id": "17a280b4-9de3-43a9-9c5e-115fe67ce250",
   "metadata": {},
   "source": [
    "### Matplotlib\n",
    "\n",
    "https://matplotlib.org/"
   ]
  },
  {
   "cell_type": "markdown",
   "id": "e91b68f4-80ac-491c-8771-f5e7d265c6f8",
   "metadata": {
    "tags": []
   },
   "source": [
    "### Seaborn\n",
    "https://seaborn.pydata.org/"
   ]
  },
  {
   "cell_type": "markdown",
   "id": "17fba394-bab0-4eeb-9288-dc2f5a3a92a8",
   "metadata": {},
   "source": [
    "### Plotly\n",
    "https://plotly.com/"
   ]
  },
  {
   "cell_type": "markdown",
   "id": "4e69c146-43dc-4395-9f3c-cc69db95d654",
   "metadata": {},
   "source": [
    "### YData Profiling\n",
    "https://docs.profiling.ydata.ai/4.6/"
   ]
  },
  {
   "cell_type": "markdown",
   "id": "2088d45f-a14d-4f99-818a-91e21cf0fc4b",
   "metadata": {},
   "source": [
    "### Data Modeling\n",
    "https://scikit-learn.org/stable/https://docs.scipy.org/doc/scipy/"
   ]
  },
  {
   "cell_type": "markdown",
   "id": "9bd93df7-f85d-4f48-8f59-7b2f7ad24739",
   "metadata": {},
   "source": [
    "## AutoML"
   ]
  },
  {
   "cell_type": "markdown",
   "id": "04b46766-df03-405b-8794-232ace424ab1",
   "metadata": {
    "tags": []
   },
   "source": [
    "### Pycaret\n",
    "https://pycaret.readthedocs.io/en/latest/"
   ]
  },
  {
   "cell_type": "markdown",
   "id": "1a477362-8c10-41e3-a1c8-965a965ecb82",
   "metadata": {},
   "source": [
    "### H2O\n",
    "https://docs.h2o.ai/h2o/latest-stable/h2o-docs/welcome.html"
   ]
  },
  {
   "cell_type": "markdown",
   "id": "3903df60-f3f1-442f-a105-418d6d2f1b2e",
   "metadata": {},
   "source": [
    "# Websites"
   ]
  },
  {
   "cell_type": "markdown",
   "id": "d6c6244c-951d-46ea-ab10-af89316be5d6",
   "metadata": {},
   "source": [
    "## Towards Data Science\n",
    "https://towardsdatascience.com/"
   ]
  },
  {
   "cell_type": "markdown",
   "id": "a8a0d88e-c91b-41e0-8bbb-65023af4debd",
   "metadata": {},
   "source": [
    "## Geeks for Geeks\n",
    "https://www.geeksforgeeks.org/"
   ]
  },
  {
   "cell_type": "markdown",
   "id": "6db7c131-05eb-4508-b547-01b39c4b2398",
   "metadata": {},
   "source": [
    "## Real Python\n",
    "https://realpython.com/"
   ]
  },
  {
   "cell_type": "markdown",
   "id": "d7f90157-1257-4595-b114-9ce9e03a725e",
   "metadata": {
    "tags": []
   },
   "source": [
    "## Learn Python - Free Interactive Python Tutorial\n",
    "https://www.learnpython.org/en/Welcome"
   ]
  },
  {
   "cell_type": "markdown",
   "id": "da4a3361-a91f-4f44-8ff3-91bab19f1e5a",
   "metadata": {},
   "source": [
    "# Videos"
   ]
  },
  {
   "cell_type": "code",
   "execution_count": null,
   "id": "5a7766f4-542f-4b17-9dea-79ceeaba9225",
   "metadata": {},
   "outputs": [],
   "source": []
  },
  {
   "cell_type": "code",
   "execution_count": null,
   "id": "f5f0c5e2-8790-4497-9f7c-21d3ffd972ce",
   "metadata": {},
   "outputs": [],
   "source": []
  },
  {
   "cell_type": "markdown",
   "id": "e9cc6a04-e9f5-419e-84db-a9a7c4f857b5",
   "metadata": {},
   "source": [
    "# Free Courses"
   ]
  },
  {
   "cell_type": "markdown",
   "id": "0a93bb2b-1c02-4605-ac36-024983feead0",
   "metadata": {},
   "source": [
    "## CS50: Introduction to Computer Science\n",
    "https://pll.harvard.edu/course/cs50-introduction-computer-science"
   ]
  },
  {
   "cell_type": "code",
   "execution_count": null,
   "id": "5d59c68c-18d8-4e7b-97cc-9457e16e8634",
   "metadata": {},
   "outputs": [],
   "source": []
  },
  {
   "cell_type": "markdown",
   "id": "c33a0f40-4581-4cd9-b43a-e8381513b4aa",
   "metadata": {},
   "source": [
    "# Datasets"
   ]
  },
  {
   "cell_type": "markdown",
   "id": "201bca54-35cd-46e6-b2ef-2c76f55cc60b",
   "metadata": {},
   "source": [
    "## Kaggle\n",
    "https://kaggle.com/"
   ]
  },
  {
   "cell_type": "markdown",
   "id": "3bb2594b-71b0-4608-98e9-88fe51f740e8",
   "metadata": {},
   "source": [
    "## UC Irvine Machine Learning Repository\n",
    "https://archive.ics.uci.edu/"
   ]
  },
  {
   "cell_type": "code",
   "execution_count": null,
   "id": "c4d71013-f699-490a-8e26-a23b06f61c85",
   "metadata": {},
   "outputs": [],
   "source": []
  },
  {
   "cell_type": "markdown",
   "id": "5792c6ed-e5de-474a-827a-5b1d62aff538",
   "metadata": {},
   "source": [
    "## Azure Open Datasets\n",
    "https://learn.microsoft.com/en-us/azure/open-datasets/dataset-catalog"
   ]
  },
  {
   "cell_type": "markdown",
   "id": "2e57c07c-2cbf-4ea2-b4cb-88ff26662061",
   "metadata": {},
   "source": [
    "## Google Dataset Search\n",
    "https://datasetsearch.research.google.com/"
   ]
  },
  {
   "cell_type": "markdown",
   "id": "f1cde12a-21a3-4571-be1c-ad9c80b64755",
   "metadata": {},
   "source": [
    "## Registry of Open Data on AWS\n",
    "https://registry.opendata.aws/"
   ]
  },
  {
   "cell_type": "markdown",
   "id": "efce0e55-7cb5-477e-ba96-dfde2a24d0c5",
   "metadata": {},
   "source": [
    "## World Bank Open Data\n",
    "https://data.worldbank.org/"
   ]
  },
  {
   "cell_type": "markdown",
   "id": "226e6448-1f46-4f23-956c-32f45f54f3bc",
   "metadata": {},
   "source": [
    "## Free Public APIs for Developers\n",
    "https://rapidapi.com/collection/list-of-free-apis"
   ]
  },
  {
   "cell_type": "markdown",
   "id": "d2991d03-8564-4e2e-a1cc-c6b527f1fc45",
   "metadata": {},
   "source": [
    "# Version Control"
   ]
  },
  {
   "cell_type": "markdown",
   "id": "ce7c16c1-63ba-4f4b-ab8a-e38f573e4046",
   "metadata": {},
   "source": [
    "## Git\n",
    "https://git-scm.com/"
   ]
  },
  {
   "cell_type": "markdown",
   "id": "99395427-301d-49fe-a8e3-c6815a49e10e",
   "metadata": {},
   "source": [
    "## Github\n",
    "https://github.com/"
   ]
  },
  {
   "cell_type": "markdown",
   "id": "395dd8a6-5470-49a6-8ba1-c09c371c8fb6",
   "metadata": {},
   "source": [
    "## Introduction to Version Control with Git\n",
    "https://www.datacamp.com/courses/introduction-to-version-control-with-git"
   ]
  },
  {
   "cell_type": "markdown",
   "id": "deec7f03-de24-4511-91c5-2c8a115072cb",
   "metadata": {},
   "source": [
    "# Tools"
   ]
  },
  {
   "cell_type": "markdown",
   "id": "661d65f2-3fda-4e33-91c5-9d006d8f1721",
   "metadata": {},
   "source": [
    "## Data Science Packages and IDEs"
   ]
  },
  {
   "cell_type": "markdown",
   "id": "379df1c4-c1b7-4c5f-b041-dac1bf788f49",
   "metadata": {},
   "source": [
    "### Anaconda\n",
    "https://www.anaconda.com/download"
   ]
  },
  {
   "cell_type": "markdown",
   "id": "ccd0de5c-7f23-4885-b0b0-8e5508a06a73",
   "metadata": {},
   "source": [
    "### Visual Studio Code\n",
    "https://code.visualstudio.com/Download"
   ]
  },
  {
   "cell_type": "markdown",
   "id": "4056c654-cc4e-4fe4-90b9-68d1abc778c3",
   "metadata": {},
   "source": [
    "## Frontend Development"
   ]
  },
  {
   "cell_type": "markdown",
   "id": "b5138149-5ff8-4b88-9deb-e1338cd3a5d2",
   "metadata": {},
   "source": [
    "### Streamlit\n",
    "https://streamlit.io/"
   ]
  },
  {
   "cell_type": "markdown",
   "id": "1f8eeefa-01be-4af7-87a3-a5a352ed3bc9",
   "metadata": {},
   "source": [
    "### Gradio\n",
    "https://www.gradio.app/"
   ]
  },
  {
   "cell_type": "code",
   "execution_count": null,
   "id": "59730d4d-5c4b-458b-99ed-0163f510b14a",
   "metadata": {},
   "outputs": [],
   "source": []
  }
 ],
 "metadata": {
  "kernelspec": {
   "display_name": "Python 3 (ipykernel)",
   "language": "python",
   "name": "python3"
  },
  "language_info": {
   "codemirror_mode": {
    "name": "ipython",
    "version": 3
   },
   "file_extension": ".py",
   "mimetype": "text/x-python",
   "name": "python",
   "nbconvert_exporter": "python",
   "pygments_lexer": "ipython3",
   "version": "3.11.5"
  },
  "toc-autonumbering": true,
  "toc-showmarkdowntxt": false
 },
 "nbformat": 4,
 "nbformat_minor": 5
}
