{
 "cells": [
  {
   "cell_type": "markdown",
   "id": "6eb12c25-36ff-4c5e-a86c-6d68a26a8524",
   "metadata": {
    "tags": []
   },
   "source": [
    "<div>\n",
    "<img src=\"../images/mdsi_logo.png\" width=\"200\"/>\n",
    "</div>"
   ]
  },
  {
   "cell_type": "markdown",
   "id": "96b48c82-a393-4682-af07-61b1d5653a1f",
   "metadata": {},
   "source": [
    "# Install Anaconda\n",
    "Download and install anaconda to your local machine by clicking the following link, https://www.anaconda.com/download. Please note that Anaconda consists of a python distribution so you don't need to install Python separately."
   ]
  },
  {
   "cell_type": "markdown",
   "id": "bb69206c-9b37-4914-b691-19859d63665d",
   "metadata": {},
   "source": [
    "# Install Git\n",
    "Download and install git by clicking the following link, https://git-scm.com/downloads"
   ]
  },
  {
   "cell_type": "markdown",
   "id": "de39e371-ee4e-4650-b336-3856abacf4c8",
   "metadata": {
    "tags": []
   },
   "source": [
    "# Create a Github profile\n",
    "Sign up for a github profile by visiting the following link, https://github.com/"
   ]
  },
  {
   "cell_type": "markdown",
   "id": "021d7ca8-8068-42ce-a610-036c944afb28",
   "metadata": {},
   "source": [
    "# Clone the following repo"
   ]
  },
  {
   "cell_type": "code",
   "execution_count": null,
   "id": "5d13c22d-1385-4b43-b214-bca54a68b6e3",
   "metadata": {},
   "outputs": [],
   "source": []
  }
 ],
 "metadata": {
  "kernelspec": {
   "display_name": "Python 3 (ipykernel)",
   "language": "python",
   "name": "python3"
  },
  "language_info": {
   "codemirror_mode": {
    "name": "ipython",
    "version": 3
   },
   "file_extension": ".py",
   "mimetype": "text/x-python",
   "name": "python",
   "nbconvert_exporter": "python",
   "pygments_lexer": "ipython3",
   "version": "3.11.5"
  },
  "toc-autonumbering": true
 },
 "nbformat": 4,
 "nbformat_minor": 5
}
