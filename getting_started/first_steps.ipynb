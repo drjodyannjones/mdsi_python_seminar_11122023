{
 "cells": [
  {
   "cell_type": "markdown",
   "id": "6eb12c25-36ff-4c5e-a86c-6d68a26a8524",
   "metadata": {
    "tags": []
   },
   "source": [
    "<div>\n",
    "<img src=\"../images/mdsi_logo.png\" width=\"200\"/>\n",
    "</div>"
   ]
  },
  {
   "cell_type": "markdown",
   "id": "96b48c82-a393-4682-af07-61b1d5653a1f",
   "metadata": {},
   "source": [
    "# Step 1: Install Anaconda\n",
    "Download and install anaconda to your local machine by clicking the following link, https://www.anaconda.com/download. Please note that Anaconda consists of a python distribution so you don't need to install Python separately. Choose the relevant installation package of Anaconda according to your operating system. Follow the on-screen instructions. \n",
    "\n",
    "When you get to the **Advanced Installation Options**, please ensure that you check both options as illustrated in the image below:\n",
    "<div>\n",
    "<img src=\"../images/anaconda_path.png\" width=\"500\"/>\n",
    "</div>"
   ]
  },
  {
   "cell_type": "markdown",
   "id": "bb69206c-9b37-4914-b691-19859d63665d",
   "metadata": {},
   "source": [
    "# Step 2: Install Git\n",
    "Download and install git by clicking the following link, https://git-scm.com/downloads"
   ]
  },
  {
   "cell_type": "markdown",
   "id": "de39e371-ee4e-4650-b336-3856abacf4c8",
   "metadata": {
    "tags": []
   },
   "source": [
    "# Step 3: Create a free Github profile\n",
    "Sign up for a github profile by visiting the following link, https://github.com/\n",
    "\n",
    "After creating your free github profile, you have two options: you can either clone the repo or fork the repo. "
   ]
  },
  {
   "cell_type": "markdown",
   "id": "021d7ca8-8068-42ce-a610-036c944afb28",
   "metadata": {},
   "source": [
    "# Step 4A: Clone the following repo\n",
    "If you would like to have a local version of this repo and be able to receive updates via the '''git pull''' command, then you can clone this repo by following these instructions.\n",
    "\n",
    "Create a local folder in your chosen directory. For example, I created a subfolder in my Documents folder and labeled it as 'Projects'. Open your terminal or command prompt and type \n",
    "\n",
    "<code>cd /path/to/your/directory</code>\n",
    "\n",
    "Once you are in your specified directory in your command prompt, type: \n",
    "\n",
    "<code>git clone https://github.com/drjodyannjones/mdsi_python_seminar_11122023.git</code>\n",
    "\n",
    "This will clone this repository to your local machine.\n",
    "\n",
    "If you are unfamiliar with git, please download this easy to use cheatsheet by Github <a href=\"https://education.github.com/git-cheat-sheet-education.pdf\">here</a>."
   ]
  },
  {
   "cell_type": "markdown",
   "metadata": {},
   "source": [
    "# Step 4B: Fork the repo\n",
    "\n",
    "If on the other hand, you would like to make your own changes without impacting the original project, you may fork the repo instead. Here are the steps:\n",
    "\n",
    "Navigate to the directory where you want to clone the forked repository, and use the <code>gh repo fork</code> command followed by the repository's path. For example:\n",
    "\n",
    "<code>gh repo fork drjodyannjones/mdsi_python_seminar_11122023 --clone\n",
    "</code>\n",
    "\n",
    "The --clone option will also clone the forked repository to your local machine. If you want to just create a fork without cloning, omit this option.\n",
    "\n",
    "> Please note that Github may ask you to authenticate your account if this is your first time doing this. If that's the case, follow the on-screen instructions in the terminal or command prompt. "
   ]
  },
  {
   "cell_type": "markdown",
   "metadata": {},
   "source": [
    "# Step 5:\n",
    "\n",
    "After you have cloned or forked the repo. The next step is to open <code>jupyter lab</code> so you can view the notebooks. \n",
    "\n",
    "To do this, ensure that you are in the directory where you cloned the repo, at the terminal or command prompt, type:\n",
    "\n",
    "<code>jupyter lab</code>\n",
    "\n",
    "This will launch an instance of jupyter lab locally in a new browser window. "
   ]
  }
 ],
 "metadata": {
  "kernelspec": {
   "display_name": "Python 3 (ipykernel)",
   "language": "python",
   "name": "python3"
  },
  "language_info": {
   "codemirror_mode": {
    "name": "ipython",
    "version": 3
   },
   "file_extension": ".py",
   "mimetype": "text/x-python",
   "name": "python",
   "nbconvert_exporter": "python",
   "pygments_lexer": "ipython3",
   "version": "3.11.5"
  },
  "toc-autonumbering": true
 },
 "nbformat": 4,
 "nbformat_minor": 5
}
