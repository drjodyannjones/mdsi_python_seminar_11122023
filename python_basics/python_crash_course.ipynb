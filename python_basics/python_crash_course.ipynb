{
 "cells": [
  {
   "cell_type": "markdown",
   "id": "d67e6902-b489-471a-860c-b9f60479bf76",
   "metadata": {},
   "source": [
    "<div>\n",
    "<img src=\"../images/mdsi_logo.png\" width=\"200\"/>\n",
    "</div>"
   ]
  },
  {
   "cell_type": "markdown",
   "id": "02774e34-f696-462b-97ef-fce2d7af0148",
   "metadata": {},
   "source": [
    "> Author: Dr. Jody-Ann S. Jones, Data Steward\n",
    "# About Python in eight lines\n",
    "Python is an object-oriented, general purpose, dynamically typed programming language that emphasizes readability and simplicity.\n",
    "\n",
    "Python has a style guide that provides best practices on how to write clean, efficient, and readable code,the Python Enhancement Proposal (PEP-8) https://peps.python.org/pep-0008/.\n",
    "\n",
    "Python code consists of expressions and statements.\n",
    "\n",
    "An expression is a piece of code that produces a value.\n",
    "\n",
    "A statement is an instruction that the Python interpreter can execute.\n",
    "\n",
    "A statement is comprised of variables and operators.\n",
    "\n",
    "Variables can take on a number of data types.\n",
    "\n",
    "Operators perform some type of computation or logical evaluation on a value or variable.\n",
    "\n",
    "Enjoy reading this notebook for more details on these important Python concepts.\n",
    "\n",
    "> **<span style=\"color: blue;\">PRO TIP: Spaces are very important in Python!</span>**"
   ]
  },
  {
   "cell_type": "markdown",
   "id": "1edf579a-2e54-4a2f-88c1-0f526af61e29",
   "metadata": {},
   "source": [
    "# Variables\n",
    "- Variable types do not have to be declared.\n",
    "- Variables cannot start with numbers (but it's cool if a number falls within the variable name).\n",
    "- Reserved keywords cannot be used as variables.\n",
    "- Variables cannot contain dashes.\n",
    "- Variables cannot contain symbols.\n",
    "- Variables cannot contain spaces.\n",
    "- It is best practice to use snake_case for naming of your variables.\n",
    "- Constants are typically written in all UPPERCASE.\n",
    "- Functions are typically written in CamelCase."
   ]
  },
  {
   "cell_type": "code",
   "execution_count": 2,
   "metadata": {},
   "outputs": [],
   "source": [
    "# Example of a variable\n",
    "\n",
    "pay_check = 100"
   ]
  },
  {
   "cell_type": "code",
   "execution_count": 3,
   "metadata": {},
   "outputs": [],
   "source": [
    "# This is a statement\n",
    "\n",
    "monthly_rent = pay_check/3"
   ]
  },
  {
   "cell_type": "code",
   "execution_count": 4,
   "metadata": {},
   "outputs": [
    {
     "data": {
      "text/plain": [
       "33.333333333333336"
      ]
     },
     "execution_count": 4,
     "metadata": {},
     "output_type": "execute_result"
    }
   ],
   "source": [
    "# This is an expression\n",
    "\n",
    "pay_check/3"
   ]
  },
  {
   "cell_type": "markdown",
   "id": "4b6532b0-1322-435d-8170-0ab8de6e637d",
   "metadata": {},
   "source": [
    "# Operators\n",
    "In order to perform various operations on values and variables, Python makes use of the following operators:\n",
    "\n",
    "| Operator      | Function |\n",
    "| :----------- | ----------- |\n",
    "|+      | Addition       |\n",
    "|-   | Subtraction       |\n",
    "|*      | Multiplication       |\n",
    "|/   | Division (always returns a float)       |\n",
    "|//   | Floor Division (always returns an integer rounded down)       |\n",
    "|**   | Exponent      |\n",
    "|%   | Modulo (returns the remainder of the division of two numbers)      |\n",
    "|<   | Less than     |\n",
    "|>   | Greater than      |\n",
    "|<=   | Less than or equal to      |\n",
    "|>=   | Greater than or equal to      |\n",
    "|!=   | Not equal to/evaluate equality     |\n",
    "|==   | Equal to/evaulate equality    |\n",
    "|=   | Assign a variable       |\n",
    "|and   | Returns True only if BOTH statements are true      |\n",
    "|or   | Return Trus if ONE statement is true      |\n",
    "|not   | Reverses the result, returns False if the result of the statement is true       |"
   ]
  },
  {
   "cell_type": "markdown",
   "metadata": {},
   "source": [
    "# Augmented/Assignment Operators\n",
    "| Operator      | Function |\n",
    "| :----------- | ----------- |\n",
    "|+=      | Addition and assign to a variable      |\n",
    "|-=   | Subtraction and assign to a variable      |\n",
    "|*=      | Multiplication and assign to a variable       |\n",
    "|/=   | Division and assign to a variable       |\n",
    "\n",
    "\n",
    "For a more comprehensive list of Python operators, please see https://www.w3schools.com/python/python_operators.asp."
   ]
  },
  {
   "cell_type": "markdown",
   "id": "2cb3018a-2b40-4ef0-a9e0-22caf727671c",
   "metadata": {},
   "source": [
    "# Data Types\n",
    "The Python language consists of several data types. The most common data types that you will encounter are represented in the table below:\n",
    "\n",
    "| Data Type     | Description                           | Example                                 | Mutable?                                 |\n",
    "|---------------|---------------------------------------|-----------------------------------------|-----------------------------------------|\n",
    "| integers      | Whole numbers                         | 1, 2, 3                                 |immutable\n",
    "| floats        | Numbers with decimal places           | 1.0, 2.012, 3.333333                    |immutable\n",
    "| strings       | Ordered sequence of characters        | \"Hi, I am Jody.\"                        |immutable\n",
    "| lists         | Ordered sequence of objects            | [\"oats\", \"raisins\", \"tea\"]              |mutable\n",
    "| dictionaries | Unordered sequence of key:value pairs | {\"John\": 98, \"Susan\": 75, \"Derrick\": 100, \"Brenda\": 50} |mutable\n",
    "| tuples        | Ordered sequence of immutable objects | (22, 18, 16, 25)                         |immutable\n",
    "| sets          | Unordered sequence of unique elements | {1, 2, 3, 4, 3, 2}                     |mutable\n",
    "| booleans      | Evaluates a statement to either True or False | True, False                            |immutable"
   ]
  },
  {
   "cell_type": "markdown",
   "metadata": {},
   "source": [
    "**Here are some important points to remember about variables in general:**\n",
    "- Python is a dynamically typed language. This means you do not need to declare your variable type, and you can easily reassign variables (and variable types) at any point in your program.\n",
    "- Floats take up more memory than integers, therefore, try if a number does not need to represented as a float, it is better to convert it to an integer in order to conserve memory.\n",
    "- A string is an ordered sequence of characters (emphasis on ordered, hint: they can be iterated throughout).\n",
    "- Strings are immutable\n",
    "- You cannot reassign parts of a string. But you can create something brand new.\n",
    "- Lists are mutable.\n",
    "- Tuples are immutable\n"
   ]
  },
  {
   "cell_type": "markdown",
   "id": "b83b8efa-feaf-4faf-a2c0-793940e49d8a",
   "metadata": {
    "tags": []
   },
   "source": [
    "## Integers\n",
    "\n",
    "- The Python 'int' data type is a fundamental aspect of the language, especially important for data analysis.\n",
    "\n",
    "- It represents whole numbers, positive or, negative, without a decimal point.\n",
    "\n",
    "- Dividing integers always return a float value.\n",
    "\n",
    "- You can also convert integers to floats by using the float() command.\n",
    "\n",
    "- You can also convert an integer to a string by using the str() command.\n",
    "\n",
    "> The following cell shows the integer data type in action:"
   ]
  },
  {
   "cell_type": "code",
   "execution_count": 1,
   "metadata": {},
   "outputs": [],
   "source": [
    "# Basic operations\n",
    "a = 10\n",
    "b = 3\n",
    "sum = a + b\n",
    "difference = a - b\n",
    "product = a * b\n",
    "quotient = a / b\n",
    "floor_division = a // b\n",
    "remainder = a % b\n",
    "power = a ** b\n",
    "\n",
    "# Type conversions\n",
    "num_str = str(a)  # Converts to string\n",
    "str_num = int(\"123\")  # Converts to integer\n",
    "\n",
    "# Large integer example\n",
    "large_int = 2 ** 1000  # Demonstrates Python's large integer capability"
   ]
  },
  {
   "cell_type": "markdown",
   "id": "f29d9736-7787-4a1e-b49d-5cfca0af8a58",
   "metadata": {},
   "source": [
    "## Floats\n",
    "\n",
    "- Floats are another crucial data type for data analysis.\n",
    "- It represents real numbers using floating point representation.\n",
    "- Values can be rounded up using the round() function, where the precision of decimal number places can be specified within the parentheses.\n",
    "- You can convert a float to an integer by using the int() command.\n",
    "- You can also convert a float to a string using the float() command.\n",
    "\n",
    "> The following cell shows the float data type in action:"
   ]
  },
  {
   "cell_type": "code",
   "execution_count": 2,
   "metadata": {},
   "outputs": [],
   "source": [
    "# Basic operations\n",
    "x = 3.14\n",
    "y = 2.5\n",
    "sum = x + y\n",
    "difference = x - y\n",
    "product = x * y\n",
    "quotient = x / y\n",
    "power = x ** y\n",
    "\n",
    "# Type conversions\n",
    "float_to_int = int(x)  # Truncates to 3\n",
    "int_to_float = float(5)  # Converts to 5.0\n",
    "str_to_float = float(\"2.71\")  # Converts string to float\n",
    "\n",
    "# Handling precision\n",
    "import math\n",
    "rounded_value = round(x, 2)  # Rounds to 3.14\n",
    "sqrt = math.sqrt(x)  # Square root of x\n",
    "\n",
    "# Example of precision issue\n",
    "result = 0.1 + 0.2  # May not be exactly 0.3 due to floating-point arithmetic"
   ]
  },
  {
   "cell_type": "markdown",
   "id": "6dd32733-2f82-4a83-b4d6-2be195f859fd",
   "metadata": {},
   "source": [
    "## Strings\n",
    "\n",
    "- The Python string data type is essential to know when dealing with textual data. In relation to data analysis, this will be particularly helpful when working with NLP and/or LLM models.\n",
    "- A string is sequence of characters. It is used to store and represent text-based data.\n",
    "- Strings in Python are immutable, meaning that once they are created, they cannot be changed.\n",
    "- A string can be created by using either single quotes or double quotes. Multi-line strings can be created using triple quotes.\n",
    "- Strings can be concatenated (combined) by using the + operator. For large-scale operations, you can also use '.join()' instead of the '+' for greater efficiency.\n",
    "- Strings can be repeated by using the * operator.\n",
    "- Strings can be indexed and sliced, i.e. characters can be accessed via an index, and you can slice whole strings into smaller substrings.\n",
    "\n",
    "Common String Methods include:\n",
    "- Case Conversion: Methods like .lower(), .upper(), .capitalize().\n",
    "- Searching: .find(), .index(), .startswith(), .endswith().\n",
    "- Modification: .strip(), .split(), .replace().\n",
    "- Joining: .join() for concatenating a sequence of strings.\n",
    "- Format: .format() or f-strings (e.g., f\"{variable}\") for string formatting.\n",
    "\n",
    "> The following cell shows the string data type in action:"
   ]
  },
  {
   "cell_type": "code",
   "execution_count": null,
   "metadata": {},
   "outputs": [],
   "source": [
    "# String creation\n",
    "simple_string = \"Hello, World!\"\n",
    "multi_line_string = \"\"\"This is\n",
    "a multi-line\n",
    "string\"\"\"\n",
    "\n",
    "# String operations\n",
    "concatenated = \"Hello, \" + \"World!\"\n",
    "repeated = \"Echo! \" * 3\n",
    "substring = simple_string[7:12]  # 'World'\n",
    "for char in simple_string:\n",
    "    print(char)\n",
    "\n",
    "# String methods\n",
    "modified = simple_string.lower()\n",
    "found_index = simple_string.find(\"World\")\n",
    "\n",
    "# Formatting\n",
    "formatted_string = f\"{simple_string} It's {2023}!\"\n",
    "\n",
    "# Unicode and encoding\n",
    "unicode_string = \"こんにちは\"\n",
    "encoded = unicode_string.encode('utf-8')\n",
    "decoded = encoded.decode('utf-8')"
   ]
  },
  {
   "cell_type": "markdown",
   "id": "1bc54311-f9db-41bf-95c1-5d5e0842d977",
   "metadata": {},
   "source": [
    "## Lists\n",
    "- The Python list data type is a versatile and widely used data structure. It is important in data analysis for its ability to store sequences of elements.\n",
    "- A list is an ordered collection of items. Lists can contain items of any data type, including other lists.\n",
    "- Lists are mutable, meaning that their elements can be changes after the list is created.\n",
    "- Lists are created by using square brackets, [], with items separated by commas.\n",
    "- Lists can be generated dynamically using list comprehensions or functions like list().\n",
    "- Lists can be indexed and sliced (just like strings).\n",
    "- Lists can be combined using '+'.\n",
    "- Lists can be repeated using '*'\n",
    "- Lists can be iterated through by using loops such as 'for item in list'\n",
    "\n",
    "**Common List Methods**\n",
    "- Adding Items: .append(item) to add to the end, .insert(index, item) to insert at a position.\n",
    "- Removing Items: .remove(item) removes first occurrence, .pop([index]) removes and returns an item at index.\n",
    "- Sorting and Reversing: .sort() for in-place sorting, .reverse() to reverse the list.\n",
    "- Searching: .index(item) to find the index of the first occurrence of an item.\n",
    "\n",
    "**List Comprehensions**\n",
    "\n",
    "- Concise Syntax: Provides a concise way to create lists based on existing lists.\n",
    "Examples: <code>[x**2 for x in range(10)]</code> creates a list of square numbers.\n",
    "\n",
    "> The following cell shows the list data type in action:"
   ]
  },
  {
   "cell_type": "code",
   "execution_count": 6,
   "metadata": {},
   "outputs": [],
   "source": [
    "# Modified list with only integers\n",
    "my_list = [1, 2, 3, 4, 5]\n",
    "\n",
    "# Operations\n",
    "element = my_list[3]  # Accessing an element\n",
    "my_list.append(6)  # Adding an element\n",
    "sliced_list = my_list[1:4]  # Slicing\n",
    "\n",
    "# Sorting the list\n",
    "my_list.sort()  # Sorting the list\n",
    "\n",
    "# List comprehension\n",
    "squares = [x ** 2 for x in range(10)]\n",
    "\n",
    "# Copying\n",
    "import copy\n",
    "shallow_copy = copy.copy(my_list)\n",
    "deep_copy = copy.deepcopy(my_list)"
   ]
  },
  {
   "cell_type": "markdown",
   "id": "fe134217-a097-4bfb-b78a-8151f8fe51c7",
   "metadata": {},
   "source": [
    "## Tuples\n",
    "- A tuple is an ordered sequence of immutable objects. This is an important data structure when working with object types that you don't want to accidentally change.\n",
    "- Unlike lists, you cannot add or remove elements, you also cannot re-assign values.\n",
    "- However, similar to lists, you can mix object types.\n",
    "- Tuples are created by using parentheses '()'\n",
    "\n",
    "**Operations**\n",
    "- Indexing and Slicing: Access elements by index (tuple[index]), slice sub-tuples (tuple[start:end]).\n",
    "- Concatenation: Combine tuples using +.\n",
    "- Repetition: Repeat tuples using *.\n",
    "- Iteration: Iterate through items using loops like for item in tuple:.\n",
    "\n",
    "**Unpacking**\n",
    "- Simultaneous Assignment: Tuples allow for the unpacking of values into variables, like x, y, z = my_tuple.\n",
    "- Extended Unpacking: In Python 3, extended unpacking can be used with a * to grab excess items.\n",
    "\n",
    "**Common Operations**\n",
    "- Count and Index: .count(value) to count occurrences, .index(value) to find the index of the first occurrence.\n",
    "\n",
    "\n",
    "> The following cell shows the tuple data type in action:\n"
   ]
  },
  {
   "cell_type": "code",
   "execution_count": 7,
   "metadata": {},
   "outputs": [],
   "source": [
    "# Creating a tuple\n",
    "my_tuple = (1, 2, 3, \"Python\")\n",
    "\n",
    "# Single element tuple\n",
    "single_element_tuple = (4,)\n",
    "\n",
    "# Operations\n",
    "element = my_tuple[2]  # Accessing an element\n",
    "concatenated_tuple = my_tuple + (5, 6)  # Concatenation\n",
    "\n",
    "# Unpacking\n",
    "a, b, c, d = my_tuple\n",
    "\n",
    "# Extended unpacking (Python 3)\n",
    "first, *rest = my_tuple\n",
    "\n",
    "# Common methods\n",
    "count = my_tuple.count(1)  # Counting occurrences of 1\n",
    "index = my_tuple.index(\"Python\")  # Finding the index of \"Python\""
   ]
  },
  {
   "cell_type": "markdown",
   "id": "fdfeb466-3a6c-44c9-8a5e-86dae95d75c1",
   "metadata": {},
   "source": [
    "## Sets\n",
    "\n",
    "- The set data structure is an unordered collection of unique items. Sets are used to store distinct values and support mathematical set operations like union, intersection, difference, etc.\n",
    "- It is important to remember that sets do not hold order, neither do they store duplicate values.\n",
    "- Sets are mutable, meaning their elements can be changed, but the elements themselves must be immutable.\n",
    "- Sets are created by using curly braces, {} with items separated by commas. An empty set is created using 'set()'. You can also use the set() command to convert lists, tuples, etc. to sets.\n",
    "\n",
    "**Operations**\n",
    "- Adding Items: .add(item) to add a single element, .update([items]) to add multiple elements.\n",
    "- Removing Items: .remove(item) removes an element (raises an error if not present), .discard(item) removes an element without raising an error.\n",
    "- Membership Testing: Use in to test for membership.\n",
    "- Iteration: Iterate through set items using loops like for item in set:.\n",
    "\n",
    "**Set Operations**\n",
    "- Union: set1 | set2 or set1.union(set2) to get all elements in either set.\n",
    "- Intersection: set1 & set2 or set1.intersection(set2) to get elements common to both sets.\n",
    "- Difference: set1 - set2 or set1.difference(set2) to get elements in set1 not in set2.\n",
    "- Symmetric Difference: set1 ^ set2 or set1.symmetric_difference(set2) for elements in either set but not in both.\n",
    "\n",
    "> The following cell shows the set data structure in action:"
   ]
  },
  {
   "cell_type": "code",
   "execution_count": null,
   "metadata": {},
   "outputs": [],
   "source": [
    "# Creating a set\n",
    "my_set = {1, 2, 3, \"Python\"}\n",
    "\n",
    "# Adding elements\n",
    "my_set.add(4)\n",
    "my_set.update([5, 6])\n",
    "\n",
    "# Removing elements\n",
    "my_set.discard(6)\n",
    "my_set.remove(5)\n",
    "\n",
    "# Set operations\n",
    "another_set = {3, 4, 5}\n",
    "union_set = my_set | another_set\n",
    "intersection_set = my_set & another_set\n",
    "difference_set = my_set - another_set\n",
    "symmetric_difference_set = my_set ^ another_set\n",
    "\n",
    "# Iteration\n",
    "for item in my_set:\n",
    "    print(item)\n"
   ]
  },
  {
   "cell_type": "markdown",
   "id": "6169f65b-d8e9-48ac-a5fd-4a3d72afbfa9",
   "metadata": {},
   "source": [
    "## Dictionaries\n",
    "\n",
    "- A dictionary in Python is an unordered collection of data in a key-value pair format. It's used to store data values like a map.\n",
    "- Dictionaries are mutable, which means you can add, remove, or modify key-value pairs after the dictionary is created.\n",
    "- Dictionaries are created using curly braces {} with key-value pairs separated by commas, and keys and values separated by colons.\n",
    "- They can also be created dynamically using the dict() constructor with lists or tuples of key-value pairs.\n",
    "\n",
    "**Operations**\n",
    "- Accessing Values: Access values using keys (dict[key]), get 'None' or a default value if a key is not found with dict.get(key, default).\n",
    "- Adding/Updating Items: Add or update key-value pairs using dict[key] = value.\n",
    "- Removing Items: Remove items with del dict[key], or use .pop(key) to remove and return the value.\n",
    "\n",
    "**Key Characteristics**\n",
    "Uniqueness of Keys: Each key must be unique in a dictionary. Adding a value to an existing key will overwrite the old value.\n",
    "Immutability of Keys: Keys must be of an immutable data type (e.g., strings, numbers, tuples with immutable elements).\n",
    "\n",
    "**Iteration and Views**\n",
    "- Iterating: Iterate over keys, values, or key-value pairs using dict.keys(), dict.values(), and dict.items().\n",
    "- Dictionary Views: These methods return 'view' objects that reflect the current state of the dictionary.\n",
    "\n",
    "**Common Methods**\n",
    "- .keys(): Returns a view of the dictionary's keys.\n",
    "- .values(): Returns a view of the dictionary's values.\n",
    "- .items(): Returns a view of the dictionary's key-value pairs.\n",
    "- .update(other_dict): Updates the dictionary with elements from another dictionary or iterable.\n",
    "\n",
    "> The following cell shows the dictionary data structure in action:"
   ]
  },
  {
   "cell_type": "code",
   "execution_count": null,
   "metadata": {},
   "outputs": [],
   "source": [
    "# Creating a dictionary\n",
    "my_dict = {\"name\": \"Alice\", \"age\": 30, \"location\": \"Wonderland\"}\n",
    "\n",
    "# Accessing and modifying\n",
    "age = my_dict[\"age\"]  # Accessing value\n",
    "my_dict[\"age\"] = 31   # Updating value\n",
    "my_dict[\"email\"] = \"alice@example.com\"  # Adding new key-value pair\n",
    "\n",
    "# Removing items\n",
    "email = my_dict.pop(\"email\")  # Removes and returns the value\n",
    "del my_dict[\"location\"]       # Removes key-value pair\n",
    "\n",
    "# Iteration\n",
    "for key in my_dict.keys():\n",
    "    print(key)\n",
    "for value in my_dict.values():\n",
    "    print(value)\n",
    "for key, value in my_dict.items():\n",
    "    print(key, value)\n",
    "\n",
    "# Using get()\n",
    "profession = my_dict.get(\"profession\", \"Unknown\")\n"
   ]
  },
  {
   "cell_type": "markdown",
   "id": "b7693ddd-4b8e-49b4-843c-1c998afc2fb8",
   "metadata": {},
   "source": [
    "# Control Flow\n",
    "Control flow allows you to direct the order in which you would like specific actions in your program to be performed. Mastering control flow will allow you to create programs that can make decisions, repeat actions, and handle varying situations. There are six main ways you can control the flow of your program. These include: 1) if statements, 2) for loops, 3) while loops, 4) break and continue statements, 5) try and except blocks and 6) pass statements. The following cells will illustrate how each of these is implemented."
   ]
  },
  {
   "cell_type": "markdown",
   "id": "0b967e9c-bd9c-4096-88fa-e1caa9687a9f",
   "metadata": {},
   "source": [
    "## if statements\n",
    "if statements allow your program to execute certain code only if a particular condition is true. You can expand this with elif (short for 'else if') and else to handle multiple conditions."
   ]
  },
  {
   "cell_type": "code",
   "execution_count": 3,
   "metadata": {},
   "outputs": [
    {
     "name": "stdout",
     "output_type": "stream",
     "text": [
      "Perform numerical analysis.\n"
     ]
    }
   ],
   "source": [
    "data_category = 'numeric'\n",
    "\n",
    "if data_category == 'numeric':\n",
    "    print(\"Perform numerical analysis.\")\n",
    "elif data_category == 'textual':\n",
    "    print(\"Perform text analysis.\")\n",
    "else:\n",
    "    print(\"Unknown data category.\")"
   ]
  },
  {
   "cell_type": "markdown",
   "metadata": {},
   "source": [
    "## for loops\n",
    "for loops are used for iterating over a sequence (like a list, tuple, dictionary, set, or string). for loops are very useful for performing an action a certain number of times using range()."
   ]
  },
  {
   "cell_type": "code",
   "execution_count": 2,
   "metadata": {},
   "outputs": [
    {
     "name": "stdout",
     "output_type": "stream",
     "text": [
      "Processed Data: 20\n",
      "Processed Data: 40\n",
      "Processed Data: 60\n",
      "Processed Data: 80\n",
      "Processed Data: 100\n"
     ]
    }
   ],
   "source": [
    "dataset = [10, 20, 30, 40, 50]\n",
    "\n",
    "for data_point in dataset:\n",
    "    processed_value = data_point * 2  # Example processing\n",
    "    print(f\"Processed Data: {processed_value}\")"
   ]
  },
  {
   "cell_type": "markdown",
   "metadata": {},
   "source": [
    "## while loops\n",
    "A while loop repeats as long as a specified condition is true. It’s crucial to ensure the loop has a breaking condition to avoid an infinite loop."
   ]
  },
  {
   "cell_type": "code",
   "execution_count": 4,
   "metadata": {},
   "outputs": [
    {
     "name": "stdout",
     "output_type": "stream",
     "text": [
      "Sum reached: 100\n"
     ]
    }
   ],
   "source": [
    "threshold = 100\n",
    "current_sum = 0\n",
    "numbers = [10, 20, 30, 40, 50]\n",
    "\n",
    "i = 0\n",
    "while current_sum < threshold and i < len(numbers):\n",
    "    current_sum += numbers[i]\n",
    "    i += 1\n",
    "print(f\"Sum reached: {current_sum}\")"
   ]
  },
  {
   "cell_type": "markdown",
   "metadata": {},
   "source": [
    "## break and continue\n",
    "- break is used to exit a loop prematurely.\n",
    "- continue skips the current iteration and continues with the next iteration.\n",
    "- These are useful for more complex control flows within loops."
   ]
  },
  {
   "cell_type": "code",
   "execution_count": 5,
   "metadata": {},
   "outputs": [
    {
     "name": "stdout",
     "output_type": "stream",
     "text": [
      "1\n",
      "3\n"
     ]
    }
   ],
   "source": [
    "data_points = [1, -2, 3, -4, 5]\n",
    "\n",
    "for point in data_points:\n",
    "    if point < 0:\n",
    "        continue  # Skip negative numbers\n",
    "    if point > 4:\n",
    "        break     # Stop the loop if the number is greater than 4\n",
    "    print(point)"
   ]
  },
  {
   "cell_type": "markdown",
   "metadata": {},
   "source": [
    "## try and except blocks\n",
    "Python uses try-except blocks for error and exception handling.\n",
    "This allows the program to respond appropriately to errors, rather than crashing."
   ]
  },
  {
   "cell_type": "code",
   "execution_count": 6,
   "metadata": {},
   "outputs": [
    {
     "name": "stdout",
     "output_type": "stream",
     "text": [
      "Division by zero error.\n"
     ]
    }
   ],
   "source": [
    "data = \"100\"\n",
    "\n",
    "try:\n",
    "    print(int(data) / 0)\n",
    "except ZeroDivisionError:\n",
    "    print(\"Division by zero error.\")\n",
    "except ValueError:\n",
    "    print(\"Invalid input for conversion.\")"
   ]
  },
  {
   "cell_type": "markdown",
   "metadata": {},
   "source": [
    "## pass statements\n",
    "pass is a null statement in Python. It's often used as a placeholder for future code.\n",
    "When the pass statement is executed, nothing happens, but it avoids a syntax error when empty code is not allowed."
   ]
  },
  {
   "cell_type": "code",
   "execution_count": 7,
   "metadata": {},
   "outputs": [],
   "source": [
    "for data in range(5):\n",
    "    # Future implementation of data processing\n",
    "    pass"
   ]
  },
  {
   "cell_type": "markdown",
   "id": "c7295827-86b1-4ed9-9f83-e35dbbcfea81",
   "metadata": {},
   "source": [
    "# Functions\n",
    "\n",
    "- Whenever you need to re-use a particular aspect of a code several times in your program, it is best to use a function. A function allows you to organize your code better and reuse blocks of code more easily.\n",
    "- In Python, you create a function by using the def keyword, followed by the name of the function then ():\n",
    "- Inside the function body, you write the instructions that you would like that specific block of code to perform.\n",
    "\n",
    "> For example:"
   ]
  },
  {
   "cell_type": "code",
   "execution_count": 2,
   "metadata": {},
   "outputs": [],
   "source": [
    "def HelloWorld():\n",
    "    print(\"Hello World!\")"
   ]
  },
  {
   "cell_type": "markdown",
   "metadata": {},
   "source": [
    "After you create (or define) a function, you can call it anywhere in your program by typing the name of the function followed by ():\n",
    "\n",
    "> For example:"
   ]
  },
  {
   "cell_type": "code",
   "execution_count": 3,
   "metadata": {},
   "outputs": [
    {
     "name": "stdout",
     "output_type": "stream",
     "text": [
      "Hello World!\n"
     ]
    }
   ],
   "source": [
    "HelloWorld()"
   ]
  },
  {
   "cell_type": "markdown",
   "metadata": {},
   "source": [
    "You can use f-strings in functions in order to customize a greeting.\n",
    "\n",
    "For example:"
   ]
  },
  {
   "cell_type": "code",
   "execution_count": 10,
   "metadata": {},
   "outputs": [],
   "source": [
    "def HelloWorld(name):\n",
    "    print(f\"Hello {name}!\")"
   ]
  },
  {
   "cell_type": "code",
   "execution_count": 9,
   "metadata": {},
   "outputs": [
    {
     "name": "stdout",
     "output_type": "stream",
     "text": [
      "Hello Jody!\n"
     ]
    }
   ],
   "source": [
    "HelloWorld(\"Jody\")"
   ]
  },
  {
   "cell_type": "markdown",
   "metadata": {},
   "source": [
    "A function may also take parameters, perform some computation on these parameters and return a result.\n",
    "\n",
    "> For example:"
   ]
  },
  {
   "cell_type": "code",
   "execution_count": 4,
   "metadata": {},
   "outputs": [],
   "source": [
    "def add_two_numbers(a, b):\n",
    "    return a + b"
   ]
  },
  {
   "cell_type": "code",
   "execution_count": 6,
   "metadata": {},
   "outputs": [
    {
     "data": {
      "text/plain": [
       "464"
      ]
     },
     "execution_count": 6,
     "metadata": {},
     "output_type": "execute_result"
    }
   ],
   "source": [
    "add_two_numbers(454, 10)"
   ]
  },
  {
   "cell_type": "markdown",
   "id": "0a5d2271-ee4a-47b0-860f-d79a14615090",
   "metadata": {},
   "source": [
    "# Classes\n",
    "A class in Python is like a blueprint for creating objects. An object is an instance of a class. Classes encapsulate data and functions that operate on that data. The data is held in attributes, and functions are represented as methods within the class.\n",
    "\n",
    ">**Basic Structure of a Class**\n",
    "\n",
    "**Defining a Class:** Use the class keyword to define a class. Class names typically follow the CapitalizedWords convention.\n",
    "Initialization Method: The __init__ method is called when an instance (object) of the class is created. It's used to initialize the attributes of the class.\n",
    "\n",
    "**Attributes and Methods:** Attributes are variables that belong to a class. Methods are functions defined within a class and can alter the object's state.\n",
    "\n",
    ">**Creating an Object**\n",
    "\n",
    "**Instantiation:** Creating an object of a class is known as instantiation.\n",
    "\n",
    "**Constructor:** The constructor (__init__ method) sets up the initial state of the object.\n",
    "\n",
    ">**Inheritance**\n",
    "\n",
    "**Extending Classes:** Inheritance allows a class to inherit attributes and methods from another class.\n",
    "Parent and Child Classes: The class being inherited from is called the parent class, and the class that inherits is the child class.\n",
    "\n",
    ">**Encapsulation**\n",
    "\n",
    "**Private and Public:** Encapsulation involves keeping the internal representation of an object hidden from the outside. In Python, there's no strict enforcement of private and public members, but a convention: Prefix attributes or methods with an underscore (_) for 'protected' or with double underscores (__) for a stronger 'private' convention.\n",
    "\n",
    ">**Polymorphism**\n",
    "\n",
    "**Method Overriding:** Polymorphism in OOP allows methods to have the same name but behave differently in different contexts (e.g., in different classes).\n",
    "\n",
    "> N.B. In Python, not everything needs to be a class. Sometimes, a simple function or a module is more appropriate.\n",
    "\n",
    "An example of a simple class is illustrated in the cell below:"
   ]
  },
  {
   "cell_type": "code",
   "execution_count": 3,
   "metadata": {},
   "outputs": [
    {
     "name": "stdout",
     "output_type": "stream",
     "text": [
      "Employee Name: Alice, Position: Data Scientist\n"
     ]
    }
   ],
   "source": [
    "class Employee:\n",
    "    def __init__(self, name, position):\n",
    "        self.name = name\n",
    "        self.position = position\n",
    "\n",
    "    def display_info(self):\n",
    "        return f\"Employee Name: {self.name}, Position: {self.position}\"\n",
    "\n",
    "# Creating an instance of the class\n",
    "emp = Employee(\"Alice\", \"Data Scientist\")\n",
    "print(emp.display_info())"
   ]
  },
  {
   "cell_type": "markdown",
   "metadata": {},
   "source": [
    "## Should I use a Function or a Class?\n",
    "Deciding whether to create a class or a function in Python depends on the nature of the problem you're solving and the structure of your code. Here are some key considerations to help you make that decision:\n",
    "\n",
    "### When to Use a Function:\n",
    "\n",
    "1. **Single, Isolated Task**: If your task is straightforward and can be encapsulated in a single, isolated operation, a function is typically sufficient. Functions are ideal for tasks that take inputs, process them, and return outputs without needing to maintain state or track data across multiple calls.\n",
    "\n",
    "2. **Statelessness**: Functions are stateless, meaning they don't retain information between calls unless explicitly designed to do so (like using global variables, which is generally discouraged). If you don't need to track state, a function is a good choice.\n",
    "\n",
    "3. **Reusability and Modularity**: If you have a piece of code that you need to reuse multiple times in different contexts, encapsulating it in a function can make your code more modular and maintainable.\n",
    "\n",
    "### When to Use a Class:\n",
    "\n",
    "1. **Managing State**: If you need to maintain and update the state over time, a class is the way to go. Objects of a class can hold state and have behaviors (methods) that modify that state.\n",
    "\n",
    "2. **Grouping Related Data and Functions**: Classes allow you to logically group related data (attributes) and functions (methods) that operate on that data. This encapsulation makes code easier to understand and manage.\n",
    "\n",
    "3. **Inheritance and Polymorphism**: If you're implementing a system where you need to create objects with similar yet distinct behaviors, classes are beneficial. They allow for inheritance and polymorphism, enabling you to create a base class with shared functionality and derived classes with specialized behaviors.\n",
    "\n",
    "4. **Creating Complex Data Structures**: When building complex data structures (like trees, graphs, etc.), using classes to represent nodes or other elements can make the implementation more intuitive and maintainable.\n",
    "\n",
    "5. **Modeling Real-world Entities**: Classes are ideal for modeling real-world entities and relationships in your code, especially when those entities have both data and behaviors (methods) associated with them.\n",
    "\n",
    "### Practical Example: Data Science Context\n",
    "\n",
    "- **Use a Function** for something like a statistical calculation, where you pass in data and get a result back without needing to track anything between calls (e.g., a function to calculate the mean of a dataset).\n",
    "\n",
    "- **Use a Class** for building a machine learning model where you need to maintain the state (like the model parameters), and provide different functionalities (like fit, predict, update model parameters). The class can encapsulate all these aspects in a single, coherent entity.\n",
    "\n",
    "### Conclusion\n",
    "\n",
    "The choice between a class and a function boils down to the scope and nature of the problem. Use functions for stateless, single-purpose tasks, and use classes when you need to model entities with state and behavior or when you need inheritance and polymorphism. In many real-world applications, you'll find a mix of both, with classes leveraging functions for specific tasks and functions using classes to manage and manipulate complex data."
   ]
  },
  {
   "cell_type": "markdown",
   "id": "6741b4e6-e3c6-41da-86cf-5dc07fe03b6c",
   "metadata": {},
   "source": [
    "# Special Topics"
   ]
  },
  {
   "cell_type": "markdown",
   "id": "ef59765c-ed31-4234-87d6-5c7e8d967b83",
   "metadata": {},
   "source": [
    "## List Comprehensions\n",
    "\n",
    "List comprehensions in Python provide a concise way to create lists. They are particularly useful in data analysis for transforming and filtering data efficiently.\n",
    "\n",
    "**Basic Structure**\n",
    "**Syntax:** <code>[expression for item in iterable]</code>\n",
    "\n",
    "**Components:**\n",
    "\n",
    "**expression:** The output expression producing elements of the new list.\n",
    "\n",
    "**item:** The variable representing members of the input sequence.\n",
    "\n",
    "**iterable:** A sequence, collection, or an iterator that you can loop over.\n",
    "\n",
    "A simple example is illustrated in the cell below:\n"
   ]
  },
  {
   "cell_type": "code",
   "execution_count": 4,
   "metadata": {},
   "outputs": [],
   "source": [
    "# Using list comprehension to create a list of squares\n",
    "squares = [x**2 for x in range(10)]"
   ]
  },
  {
   "cell_type": "markdown",
   "metadata": {},
   "source": [
    "**Adding Conditional Logic**\n",
    "\n",
    "**Filtering Items:** You can add a conditional at the end of the list comprehension to filter items.\n",
    "\n",
    "**Syntax with Condition:**\n",
    "\n",
    "<pre>[expression for item in iterable if condition]</pre>\n",
    "\n",
    "An example of a list comprehension with conditional logic is shown in the cell below:"
   ]
  },
  {
   "cell_type": "code",
   "execution_count": 5,
   "metadata": {},
   "outputs": [],
   "source": [
    "# List of even squares with conditional logic\n",
    "even_squares = [x**2 for x in range(10) if x % 2 == 0]"
   ]
  },
  {
   "cell_type": "markdown",
   "id": "bb6cd15c-1afd-4f8f-bd0a-ed3cfdd28e49",
   "metadata": {},
   "source": [
    "## Lambda Functions\n",
    "\n",
    "Lambda functions in Python, also known as anonymous functions, are a powerful feature, particularly useful in data science for concise and efficient data manipulation. A lambda function has a simple and concise structure. It is defined using the lambda keyword, followed by a list of parameters, a colon, and the expression that the function will execute and return. The power of lambda functions lies in their simplicity and brevity. They are best suited for simple operations that can be expressed in a single line. For more complex operations, it's generally better to use a standard function definition for the sake of clarity and maintainability.\n",
    "\n",
    "Here's the basic structure:\n",
    "<code>lambda parameters: expression</code>\n",
    "\n",
    "**Components:**\n",
    "\n",
    "**lambda Keyword:** This keyword signifies that the definition is a lambda function.\n",
    "\n",
    "**Parameters:** These are the input values for the lambda function. Similar to parameters in a regular function, they are used in the expression. You can have any number of parameters or none at all.\n",
    "\n",
    "**Colon (:):** Separates the parameters from the expression.\n",
    "\n",
    "**Expression:** A single expression that is evaluated and returned by the function. This expression can operate on the parameters and return a value."
   ]
  },
  {
   "cell_type": "code",
   "execution_count": null,
   "metadata": {},
   "outputs": [],
   "source": [
    "### Examples\n",
    "\n",
    "# No Parameter\n",
    "'''A lambda function that takes no parameters and always returns `True`.'''\n",
    "lambda: True\n",
    "\n",
    "# One Parameter\n",
    "'''A lambda function that doubles the input value.'''\n",
    "lambda x: x * 2\n",
    "\n",
    "# Multiple Parameters\n",
    "'''A lambda function that takes two parameters and returns their sum.'''\n",
    "lambda x, y: x + y\n",
    "\n",
    "### Practical Examples\n",
    "\n",
    "# Sorting\n",
    "'''Sort a list of tuples based on the second element of each tuple.'''\n",
    "sorted(list_of_tuples, key=lambda x: x[1])\n",
    "\n",
    "# Mapping\n",
    "'''Apply a function to all items in an iterable (e.g., converting strings to uppercase).'''\n",
    "list(map(lambda x: x.upper(), list_of_strings))\n",
    "\n",
    "# Filtering\n",
    "'''Filter elements of an iterable based on a condition (e.g., keeping only positive numbers).'''\n",
    "list(filter(lambda x: x > 0, list_of_numbers))"
   ]
  },
  {
   "cell_type": "markdown",
   "metadata": {},
   "source": [
    "## Map, Filter, Reduce\n",
    "The map, filter, and reduce functions in Python are fundamental functional programming tools that are particularly useful for processing sequences of elements. Using map, filter, and reduce allows for writing cleaner and more efficient Python code, especially when dealing with lists or other collections. These functions encapsulate common patterns of looping and conditional logic, thus they're widely used in data processing and transformation tasks.\n",
    "\n",
    ">N.B. They are often used with lambda functions but can also be used with regular functions.\n",
    "\n",
    "**map Function**\n",
    "\n",
    "**Purpose:** Applies a given function to each item of an iterable (like a list) and returns an iterator.\n",
    "\n",
    "**Structure:** <code>map(function, iterable)</code>\n",
    "\n",
    "Use Case: Transforming data"
   ]
  },
  {
   "cell_type": "code",
   "execution_count": 9,
   "metadata": {},
   "outputs": [
    {
     "name": "stdout",
     "output_type": "stream",
     "text": [
      "[2, 4, 6, 8]\n"
     ]
    }
   ],
   "source": [
    "# Example use case for map function\n",
    "# Doubling each number in a list\n",
    "numbers = [1, 2, 3, 4]\n",
    "doubled = map(lambda x: x * 2, numbers)\n",
    "print(list(doubled))"
   ]
  },
  {
   "cell_type": "markdown",
   "metadata": {},
   "source": [
    "**filter Function**\n",
    "\n",
    "**Purpose:** Constructs an iterator from elements of an iterable for which a function returns true.\n",
    "\n",
    "**Structure:** <code>filter(function, iterable)</code>\n",
    "\n",
    "**Use Case:** Selecting data based on conditions."
   ]
  },
  {
   "cell_type": "code",
   "execution_count": 10,
   "metadata": {},
   "outputs": [
    {
     "name": "stdout",
     "output_type": "stream",
     "text": [
      "[3, 4]\n"
     ]
    }
   ],
   "source": [
    "# Example use case for filter function\n",
    "# Filtering out numbers less than 3\n",
    "numbers = [1, 2, 3, 4]\n",
    "filtered = filter(lambda x: x >= 3, numbers)\n",
    "print(list(filtered))"
   ]
  },
  {
   "cell_type": "markdown",
   "metadata": {},
   "source": [
    "**reduce Function**\n",
    "\n",
    "**Purpose:** Performs a rolling computation to sequential pairs of values in an iterable.\n",
    "\n",
    "**Where It's Found:** In the functools module.\n",
    "\n",
    "**Structure:** <code>reduce(function, iterable[, initializer])</code>\n",
    "\n",
    "**Use Case:** Reducing a list to a single value."
   ]
  },
  {
   "cell_type": "code",
   "execution_count": 11,
   "metadata": {},
   "outputs": [
    {
     "name": "stdout",
     "output_type": "stream",
     "text": [
      "10\n"
     ]
    }
   ],
   "source": [
    "# Example use case for reduce function\n",
    "\n",
    "from functools import reduce\n",
    "\n",
    "# Summing all numbers in a list\n",
    "numbers = [1, 2, 3, 4]\n",
    "summed = reduce(lambda x, y: x + y, numbers)\n",
    "print(summed)"
   ]
  },
  {
   "cell_type": "markdown",
   "id": "ed0897b9-945d-44f4-89bd-9c74faea8f2c",
   "metadata": {},
   "source": [
    "## Decorators\n",
    "\n",
    "Decorators in Python are a powerful and flexible tool, often used in both simple and advanced programming scenarios, including web frameworks, data analysis, and more. They are design patterns that allow you to modify or enhance the behavior of functions or methods without permanently modifying their source code. They are implemented as higher-order functions that take a function as an argument and return a new function.\n",
    "\n",
    "**Basic Structure**\n",
    "\n",
    "**Syntax:** \n",
    "Decorators are defined by using the following syntax:"
   ]
  },
  {
   "cell_type": "code",
   "execution_count": 15,
   "metadata": {},
   "outputs": [],
   "source": [
    "def my_decorator(func):\n",
    "\n",
    "    def wrapper():\n",
    "\n",
    "        # Do something before the original function is called.\n",
    "\n",
    "        func()\n",
    "\n",
    "        # Do something after the original function is called.\n",
    "\n",
    "    return wrapper"
   ]
  },
  {
   "cell_type": "markdown",
   "metadata": {},
   "source": [
    "Decorators are applied using the <code>@decorator_name</code> syntax placed above the function definition.\n",
    "\n",
    "A simple example of a decorator in action is illustrated in the cell below:"
   ]
  },
  {
   "cell_type": "code",
   "execution_count": 16,
   "metadata": {},
   "outputs": [
    {
     "name": "stdout",
     "output_type": "stream",
     "text": [
      "Something is happening before the function is called.\n",
      "Hello!\n",
      "Something is happening after the function is called.\n"
     ]
    }
   ],
   "source": [
    "def my_decorator(func):\n",
    "    def wrapper():\n",
    "        print(\"Something is happening before the function is called.\")\n",
    "        func()\n",
    "        print(\"Something is happening after the function is called.\")\n",
    "    return wrapper\n",
    "\n",
    "@my_decorator\n",
    "def say_hello():\n",
    "    print(\"Hello!\")\n",
    "\n",
    "say_hello()\n"
   ]
  },
  {
   "cell_type": "markdown",
   "metadata": {},
   "source": [
    "Decorators can greatly enhance the functionality of code in data science tasks. Among their numerous applications, the top three are arguably logging and monitoring, performance measurement, and data validation. Let's delve into each of these applications with code examples:"
   ]
  },
  {
   "cell_type": "markdown",
   "metadata": {},
   "source": [
    "**1. Logging and Monitoring**\n",
    "\n",
    "Logging function calls, their arguments, and their return values can be crucial for debugging and tracking data processing."
   ]
  },
  {
   "cell_type": "code",
   "execution_count": 17,
   "metadata": {},
   "outputs": [
    {
     "name": "stdout",
     "output_type": "stream",
     "text": [
      "Calling process_data([1, 2, 3, 4])\n",
      "'process_data' returned 'Processed Data'\n"
     ]
    },
    {
     "data": {
      "text/plain": [
       "'Processed Data'"
      ]
     },
     "execution_count": 17,
     "metadata": {},
     "output_type": "execute_result"
    }
   ],
   "source": [
    "import functools\n",
    "\n",
    "def log_function_call(func):\n",
    "    @functools.wraps(func)\n",
    "    def wrapper(*args, **kwargs):\n",
    "        args_repr = [repr(a) for a in args]\n",
    "        kwargs_repr = [f\"{k}={v!r}\" for k, v in kwargs.items()]\n",
    "        signature = \", \".join(args_repr + kwargs_repr)\n",
    "        print(f\"Calling {func.__name__}({signature})\")\n",
    "        result = func(*args, **kwargs)\n",
    "        print(f\"{func.__name__!r} returned {result!r}\")\n",
    "        return result\n",
    "    return wrapper\n",
    "\n",
    "@log_function_call\n",
    "def process_data(data):\n",
    "    # Imagine some data processing here\n",
    "    return \"Processed Data\"\n",
    "\n",
    "# Example use\n",
    "process_data([1, 2, 3, 4])"
   ]
  },
  {
   "cell_type": "markdown",
   "metadata": {},
   "source": [
    "**2. Performance Measurement**\n",
    "\n",
    "Measuring the execution time of functions is crucial in optimizing data processing scripts."
   ]
  },
  {
   "cell_type": "code",
   "execution_count": 18,
   "metadata": {},
   "outputs": [
    {
     "name": "stdout",
     "output_type": "stream",
     "text": [
      "Function data_analysis executed in 2.0042169094085693 seconds\n"
     ]
    },
    {
     "data": {
      "text/plain": [
       "'Analysis Result'"
      ]
     },
     "execution_count": 18,
     "metadata": {},
     "output_type": "execute_result"
    }
   ],
   "source": [
    "import time\n",
    "import functools\n",
    "\n",
    "def measure_time(func):\n",
    "    @functools.wraps(func)\n",
    "    def wrapper(*args, **kwargs):\n",
    "        start_time = time.time()\n",
    "        result = func(*args, **kwargs)\n",
    "        end_time = time.time()\n",
    "        print(f\"Function {func.__name__} executed in {end_time - start_time} seconds\")\n",
    "        return result\n",
    "    return wrapper\n",
    "\n",
    "@measure_time\n",
    "def data_analysis(data):\n",
    "    # Simulating a time-consuming data analysis process\n",
    "    time.sleep(2)  # Sleep for 2 seconds to simulate work\n",
    "    return \"Analysis Result\"\n",
    "\n",
    "# Example use\n",
    "data_analysis([1, 2, 3, 4])"
   ]
  },
  {
   "cell_type": "markdown",
   "metadata": {},
   "source": [
    "**3. Data Validation**\n",
    "\n",
    "Ensuring the validity of data being passed into a function is essential to maintain the integrity of any data processing operation."
   ]
  },
  {
   "cell_type": "code",
   "execution_count": 21,
   "metadata": {},
   "outputs": [
    {
     "name": "stdout",
     "output_type": "stream",
     "text": [
      "20.0\n"
     ]
    }
   ],
   "source": [
    "import functools\n",
    "\n",
    "def validate_data(func):\n",
    "    @functools.wraps(func)\n",
    "    def wrapper(*args, **kwargs):\n",
    "        if not all(isinstance(arg, list) for arg in args):\n",
    "            raise ValueError(\"All arguments must be of type list\")\n",
    "        return func(*args, **kwargs)\n",
    "    return wrapper\n",
    "\n",
    "@validate_data\n",
    "def average(data):\n",
    "    return sum(data) / len(data)\n",
    "\n",
    "# Example use\n",
    "print(average([10, 20, 30]))  # This will work\n",
    "# average(10)  # This will raise an error"
   ]
  },
  {
   "cell_type": "markdown",
   "id": "8c4d9029-f12e-4ff1-979c-3cafc528f736",
   "metadata": {},
   "source": [
    "## Generators\n",
    "Generators are a special type of iterator in Python, used to iterate over sequences of data without needing to create and store the entire sequence in memory at once. They are particularly useful for working with large datasets or streams of data where you want to process **<font color=\"blue\">one item at a time</font>**.\n",
    "\n",
    "**yield Keyword:** The core of a generator is the yield statement. When a function contains at least one yield statement, it becomes a generator. Instead of returning a value and exiting like a regular function, a generator yields a value and pauses its state. It resumes from there when the next value is requested.\n",
    "\n",
    "**Iteration:** Generators are iterable, so you can use them in loops or anywhere an iterator is accepted.\n",
    "\n",
    "**Stateful:** Unlike regular functions, generators maintain their state between iterations. This means they remember where they left off last.\n",
    "\n",
    "An example of a simple generator is illustrated in the cell below:"
   ]
  },
  {
   "cell_type": "code",
   "execution_count": 1,
   "metadata": {},
   "outputs": [
    {
     "name": "stdout",
     "output_type": "stream",
     "text": [
      "1\n",
      "2\n",
      "3\n",
      "4\n",
      "5\n"
     ]
    }
   ],
   "source": [
    "def simple_number_generator(max):\n",
    "    n = 1\n",
    "    while n <= max:\n",
    "        yield n\n",
    "        n += 1\n",
    "\n",
    "# Using the generator\n",
    "for number in simple_number_generator(5):\n",
    "    print(number)\n"
   ]
  },
  {
   "cell_type": "markdown",
   "metadata": {},
   "source": [
    "### An example with a generator expression\n",
    "Generator expressions are a concise way to create generators. They are similar to list comprehensions but with parentheses instead of square brackets."
   ]
  },
  {
   "cell_type": "code",
   "execution_count": 2,
   "metadata": {},
   "outputs": [
    {
     "name": "stdout",
     "output_type": "stream",
     "text": [
      "0\n",
      "1\n",
      "4\n",
      "9\n",
      "16\n",
      "25\n",
      "36\n",
      "49\n",
      "64\n",
      "81\n"
     ]
    }
   ],
   "source": [
    "squares = (x*x for x in range(10))\n",
    "\n",
    "# Using the generator expression\n",
    "for square in squares:\n",
    "    print(square)\n"
   ]
  }
 ],
 "metadata": {
  "kernelspec": {
   "display_name": "Python 3 (ipykernel)",
   "language": "python",
   "name": "python3"
  },
  "language_info": {
   "codemirror_mode": {
    "name": "ipython",
    "version": 3
   },
   "file_extension": ".py",
   "mimetype": "text/x-python",
   "name": "python",
   "nbconvert_exporter": "python",
   "pygments_lexer": "ipython3",
   "version": "3.8.17"
  }
 },
 "nbformat": 4,
 "nbformat_minor": 5
}
