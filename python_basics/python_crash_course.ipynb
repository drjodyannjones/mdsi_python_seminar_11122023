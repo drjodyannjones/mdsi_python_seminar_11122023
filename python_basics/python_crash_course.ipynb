{
 "cells": [
  {
   "cell_type": "markdown",
   "id": "d67e6902-b489-471a-860c-b9f60479bf76",
   "metadata": {},
   "source": [
    "<div>\n",
    "<img src=\"../images/mdsi_logo.png\" width=\"200\"/>\n",
    "</div>"
   ]
  },
  {
   "cell_type": "markdown",
   "id": "02774e34-f696-462b-97ef-fce2d7af0148",
   "metadata": {},
   "source": [
    "> Author: Dr. Jody-Ann S. Jones, Data Steward\n",
    "# About Python in eight lines\n",
    "Python is an object-oriented, general purpose, dynamically typed programming language that emphasizes readability and simplicity.\n",
    "\n",
    "Python has a style guide that provides best practices on how to write clean, efficient, and readable code, https://peps.python.org/pep-0008/.\n",
    "\n",
    "Python code consists of expressions and statements.\n",
    "\n",
    "An expression is a piece of code that produces a value.\n",
    "\n",
    "A statement is an instruction that the Python interpreter can execute.\n",
    "\n",
    "A statement is comprised of variables and operators.\n",
    "\n",
    "Variables can take on a number of data types.\n",
    "\n",
    "Operators perform some type of computation or logical evaluation on a value or variable.\n",
    "\n",
    "Enjoy reading this notebook for more details on these important Python concepts.\n",
    "\n",
    "> **<span style=\"color: lightblue;\">PRO TIP: Spaces are very important in Python!</span>**"
   ]
  },
  {
   "cell_type": "markdown",
   "id": "1edf579a-2e54-4a2f-88c1-0f526af61e29",
   "metadata": {},
   "source": [
    "# Variables\n",
    "- Variable types do not have to be declared.\n",
    "- Variables cannot start with numbers (but it's cool if a number falls within the variable name).\n",
    "- Reserved keywords cannot be used as variables.\n",
    "- Variables cannot contain dashes.\n",
    "- Variables cannot contain symbols.\n",
    "- Variables cannot contain spaces.\n",
    "- It is best practice to use snake_case for naming of your variables.\n",
    "- Constants are typically written in all UPPERCASE.\n",
    "- Functions are typically written in CamelCase."
   ]
  },
  {
   "cell_type": "code",
   "execution_count": 2,
   "metadata": {},
   "outputs": [],
   "source": [
    "# Example of a variable\n",
    "\n",
    "pay_check = 100"
   ]
  },
  {
   "cell_type": "code",
   "execution_count": 3,
   "metadata": {},
   "outputs": [],
   "source": [
    "# This is a statement\n",
    "\n",
    "monthly_rent = pay_check/3"
   ]
  },
  {
   "cell_type": "code",
   "execution_count": 4,
   "metadata": {},
   "outputs": [
    {
     "data": {
      "text/plain": [
       "33.333333333333336"
      ]
     },
     "execution_count": 4,
     "metadata": {},
     "output_type": "execute_result"
    }
   ],
   "source": [
    "# This is an expression\n",
    "\n",
    "pay_check/3"
   ]
  },
  {
   "cell_type": "markdown",
   "id": "4b6532b0-1322-435d-8170-0ab8de6e637d",
   "metadata": {},
   "source": [
    "# Operators\n",
    "In order to perform various operations on values and variables, Python makes use of the following operators:\n",
    "\n",
    "| Operator      | Function |\n",
    "| :----------- | ----------- |\n",
    "|+      | Addition       |\n",
    "|-   | Subtraction       |\n",
    "|*      | Multiplication       |\n",
    "|/   | Division (always returns a float)       |\n",
    "|//   | Floor Division (always returns an integer rounded down)       |\n",
    "|**   | Exponent      |\n",
    "|%   | Modulo (returns the remainder of the division of two numbers)      |\n",
    "|<   | Less than     |\n",
    "|>   | Greater than      |\n",
    "|<=   | Less than or equal to      |\n",
    "|>=   | Greater than or equal to      |\n",
    "|!=   | Not equal to/evaluate equality     |\n",
    "|==   | Equal to/evaulate equality    |\n",
    "|=   | Assign a variable       |\n",
    "|and   | Returns True only if BOTH statements are true      |\n",
    "|or   | Return Trus if ONE statement is true      |\n",
    "|not   | Reverses the result, returns False if the result of the statement is true       |"
   ]
  },
  {
   "cell_type": "markdown",
   "metadata": {},
   "source": [
    "# Augmented/Assignment Operators\n",
    "| Operator      | Function |\n",
    "| :----------- | ----------- |\n",
    "|+=      | Addition and assign to a variable      |\n",
    "|-=   | Subtraction and assign to a variable      |\n",
    "|*=      | Multiplication and assign to a variable       |\n",
    "|/=   | Division and assign to a variable       |\n",
    "\n",
    "\n",
    "For a more comprehensive list of Python operators, please see https://www.w3schools.com/python/python_operators.asp."
   ]
  },
  {
   "cell_type": "markdown",
   "id": "2cb3018a-2b40-4ef0-a9e0-22caf727671c",
   "metadata": {},
   "source": [
    "# Data Types\n",
    "The Python language consists of several data types. The most common data types that you will encounter are represented in the table below:\n",
    "\n",
    "| Data Type     | Description                           | Example                                 | Mutable?                                 |\n",
    "|---------------|---------------------------------------|-----------------------------------------|-----------------------------------------|\n",
    "| integers      | Whole numbers                         | 1, 2, 3                                 |immutable\n",
    "| floats        | Numbers with decimal places           | 1.0, 2.012, 3.333333                    |immutable\n",
    "| strings       | Ordered sequence of characters        | \"Hi, I am Jody.\"                        |immutable\n",
    "| lists         | Ordered sequence of objects            | [\"oats\", \"raisins\", \"tea\"]              |mutable\n",
    "| dictionaries | Unordered sequence of key:value pairs | {\"John\": 98, \"Susan\": 75, \"Derrick\": 100, \"Brenda\": 50} |mutable\n",
    "| tuples        | Ordered sequence of immutable objects | (22, 18, 16, 25)                         |immutable\n",
    "| sets          | Unordered sequence of unique elements | {1, 2, 3, 4, 3, 2}                     |mutable\n",
    "| booleans      | Evaluates a statement to either True or False | True, False                            |immutable"
   ]
  },
  {
   "cell_type": "markdown",
   "metadata": {},
   "source": [
    "**Here are some important points to remember about variables in general:**\n",
    "- Python is a dynamically typed language. This means you do not need to declare your variable type, and you can easily reassign variables (and variable types) at any point in your program.\n",
    "- Floats take up more memory than integers, therefore, try if a number does not need to represented as a float, it is better to convert it to an integer in order to conserve memory.\n",
    "- A string is an ordered sequence of characters (emphasis on ordered, hint: they can be iterated throughout).\n",
    "- Strings are immutable\n",
    "- You cannot reassign parts of a string. But you can create something brand new.\n",
    "- Lists are mutable.\n",
    "- Tuples are immutable\n"
   ]
  },
  {
   "cell_type": "markdown",
   "id": "b83b8efa-feaf-4faf-a2c0-793940e49d8a",
   "metadata": {
    "tags": []
   },
   "source": [
    "## Integers\n",
    "\n",
    "- The Python 'int' data type is a fundamental aspect of the language, especially important for data analysis.\n",
    "\n",
    "- It represents whole numbers, positive or, negative, without a decimal point.\n",
    "\n",
    "- Dividing integers always return a float value.\n",
    "\n",
    "- You can also convert integers to floats by using the float() command.\n",
    "\n",
    "- You can also convert an integer to a string by using the str() command.\n",
    "\n",
    "The following cell shows the integer data type in action:"
   ]
  },
  {
   "cell_type": "code",
   "execution_count": 1,
   "metadata": {},
   "outputs": [],
   "source": [
    "# Basic operations\n",
    "a = 10\n",
    "b = 3\n",
    "sum = a + b\n",
    "difference = a - b\n",
    "product = a * b\n",
    "quotient = a / b\n",
    "floor_division = a // b\n",
    "remainder = a % b\n",
    "power = a ** b\n",
    "\n",
    "# Type conversions\n",
    "num_str = str(a)  # Converts to string\n",
    "str_num = int(\"123\")  # Converts to integer\n",
    "\n",
    "# Large integer example\n",
    "large_int = 2 ** 1000  # Demonstrates Python's large integer capability\n"
   ]
  },
  {
   "cell_type": "markdown",
   "id": "f29d9736-7787-4a1e-b49d-5cfca0af8a58",
   "metadata": {},
   "source": [
    "## Floats\n",
    "\n",
    "- Floats are another crucial data type for data analysis.\n",
    "- It represents real numbers using floating point representation.\n",
    "- Values can be rounded up using the round() function, where the precision of decimal number places can be specified within the parentheses.\n",
    "- You can convert a float to an integer by using the int() command.\n",
    "- You can also convert a float to a string using the float() command.\n",
    "\n",
    "The following cell shows the float data type in action:"
   ]
  },
  {
   "cell_type": "code",
   "execution_count": 2,
   "metadata": {},
   "outputs": [],
   "source": [
    "# Basic operations\n",
    "x = 3.14\n",
    "y = 2.5\n",
    "sum = x + y\n",
    "difference = x - y\n",
    "product = x * y\n",
    "quotient = x / y\n",
    "power = x ** y\n",
    "\n",
    "# Type conversions\n",
    "float_to_int = int(x)  # Truncates to 3\n",
    "int_to_float = float(5)  # Converts to 5.0\n",
    "str_to_float = float(\"2.71\")  # Converts string to float\n",
    "\n",
    "# Handling precision\n",
    "import math\n",
    "rounded_value = round(x, 2)  # Rounds to 3.14\n",
    "sqrt = math.sqrt(x)  # Square root of x\n",
    "\n",
    "# Example of precision issue\n",
    "result = 0.1 + 0.2  # May not be exactly 0.3 due to floating-point arithmetic"
   ]
  },
  {
   "cell_type": "markdown",
   "id": "6dd32733-2f82-4a83-b4d6-2be195f859fd",
   "metadata": {},
   "source": [
    "## Strings"
   ]
  },
  {
   "cell_type": "markdown",
   "id": "f7a2425e-1894-4ca1-9b02-35f02b01d0c5",
   "metadata": {},
   "source": [
    "### String Formatting"
   ]
  },
  {
   "cell_type": "markdown",
   "id": "1bc54311-f9db-41bf-95c1-5d5e0842d977",
   "metadata": {},
   "source": [
    "## Lists"
   ]
  },
  {
   "cell_type": "markdown",
   "id": "fe134217-a097-4bfb-b78a-8151f8fe51c7",
   "metadata": {},
   "source": [
    "## Tuples"
   ]
  },
  {
   "cell_type": "markdown",
   "id": "fdfeb466-3a6c-44c9-8a5e-86dae95d75c1",
   "metadata": {},
   "source": [
    "## Sets"
   ]
  },
  {
   "cell_type": "markdown",
   "id": "6169f65b-d8e9-48ac-a5fd-4a3d72afbfa9",
   "metadata": {},
   "source": [
    "## Dictionaries"
   ]
  },
  {
   "cell_type": "markdown",
   "id": "f8e36875-08e2-4981-9b99-14a50abd11c9",
   "metadata": {},
   "source": [
    "# Expressions"
   ]
  },
  {
   "cell_type": "markdown",
   "id": "e9468ef1-3cd9-40c6-84bb-2058315a1dde",
   "metadata": {},
   "source": [
    "# Statements"
   ]
  },
  {
   "cell_type": "markdown",
   "id": "b7693ddd-4b8e-49b4-843c-1c998afc2fb8",
   "metadata": {},
   "source": [
    "# Control Flow"
   ]
  },
  {
   "cell_type": "markdown",
   "id": "0b967e9c-bd9c-4096-88fa-e1caa9687a9f",
   "metadata": {},
   "source": [
    "# Loops"
   ]
  },
  {
   "cell_type": "markdown",
   "id": "c7295827-86b1-4ed9-9f83-e35dbbcfea81",
   "metadata": {},
   "source": [
    "# Functions"
   ]
  },
  {
   "cell_type": "markdown",
   "id": "0a5d2271-ee4a-47b0-860f-d79a14615090",
   "metadata": {},
   "source": [
    "# Classes"
   ]
  },
  {
   "cell_type": "markdown",
   "id": "6741b4e6-e3c6-41da-86cf-5dc07fe03b6c",
   "metadata": {},
   "source": [
    "# Special Topics"
   ]
  },
  {
   "cell_type": "markdown",
   "id": "ef59765c-ed31-4234-87d6-5c7e8d967b83",
   "metadata": {},
   "source": [
    "## List Comprehensions"
   ]
  },
  {
   "cell_type": "markdown",
   "id": "bb6cd15c-1afd-4f8f-bd0a-ed3cfdd28e49",
   "metadata": {},
   "source": [
    "## Lambda Functions"
   ]
  },
  {
   "cell_type": "markdown",
   "id": "ed0897b9-945d-44f4-89bd-9c74faea8f2c",
   "metadata": {},
   "source": [
    "## Decorators"
   ]
  },
  {
   "cell_type": "markdown",
   "id": "8c4d9029-f12e-4ff1-979c-3cafc528f736",
   "metadata": {},
   "source": [
    "## Generators"
   ]
  },
  {
   "cell_type": "markdown",
   "id": "b7d12eef-5711-4571-8b40-07a5a910bd62",
   "metadata": {},
   "source": [
    "## Map, Filter, Reduce"
   ]
  },
  {
   "cell_type": "code",
   "execution_count": null,
   "id": "5a8911b6-326d-46dd-b5bf-3ab44e982436",
   "metadata": {},
   "outputs": [],
   "source": []
  }
 ],
 "metadata": {
  "kernelspec": {
   "display_name": "Python 3 (ipykernel)",
   "language": "python",
   "name": "python3"
  },
  "language_info": {
   "codemirror_mode": {
    "name": "ipython",
    "version": 3
   },
   "file_extension": ".py",
   "mimetype": "text/x-python",
   "name": "python",
   "nbconvert_exporter": "python",
   "pygments_lexer": "ipython3",
   "version": "3.11.5"
  }
 },
 "nbformat": 4,
 "nbformat_minor": 5
}
