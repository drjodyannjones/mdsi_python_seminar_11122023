{
 "cells": [
  {
   "cell_type": "markdown",
   "id": "9163b19a-3eaf-4a5e-8eac-6373910d2e7d",
   "metadata": {
    "tags": []
   },
   "source": [
    "<div>\n",
    "<img src=\"../images/mdsi_logo.png\" width=\"200\"/>\n",
    "</div>"
   ]
  },
  {
   "cell_type": "markdown",
   "id": "23023444-d0ff-4f12-9384-956a61e2e121",
   "metadata": {},
   "source": [
    "# Title of Project\n",
    "## About the Project\n",
    "Lorem ipsum dolor sit amet, consectetur adipiscing elit. Nunc viverra mauris porttitor fringilla laoreet. Vivamus eleifend finibus nisi, quis feugiat nisl tempor vitae. Vivamus id efficitur metus. Donec in nulla eu ante egestas aliquet. Fusce posuere, tortor ut euismod interdum, elit ante scelerisque metus, at luctus tellus erat non leo. Sed feugiat semper eros eu condimentum. Sed gravida pharetra dictum. Nullam ut massa vel magna lobortis semper eget sed erat. Nunc vestibulum ex orci, non imperdiet turpis fermentum vitae. Praesent vestibulum ex felis, sit amet ultrices tellus vehicula et.\n",
    "\n",
    "## Data Source\n",
    "https://www.kaggle.com/datasets/nelgiriyewithana/world-educational-data/"
   ]
  },
  {
   "cell_type": "markdown",
   "id": "0db4b582-7699-409c-963c-ec64a76baf2c",
   "metadata": {},
   "source": [
    "## Import Libraries\n",
    "Before starting your data project, it is important to do some background research on the libraries you will (or might) need. It is best practice to import all of these libraries at the start of the project. However, if during your project you find that you will need additional libraries, no problem, you can simply append them to this cell."
   ]
  },
  {
   "cell_type": "code",
   "execution_count": 2,
   "id": "b9bc9c13-ade8-4497-9b77-aa4d896f55a2",
   "metadata": {
    "tags": []
   },
   "outputs": [],
   "source": [
    "# import the libraries you will need here\n",
    "import numpy as np\n",
    "import pandas as pd\n",
    "import matplotlib.pyplot as plt\n",
    "import seaborn as sns"
   ]
  },
  {
   "cell_type": "markdown",
   "id": "8760ccb7-3f50-4712-9cd4-e4fbc2dbc673",
   "metadata": {},
   "source": [
    "## Load Data\n",
    "Depending on your file format, you will need a library to import or ingest your data. For data analysis, the pandas library offers an intuitive method to import various file types. One of the more common file types is csv. However, pandas can read/write many file formats. For an extensive list, please see: https://pandas.pydata.org/docs/reference/io.html "
   ]
  },
  {
   "cell_type": "code",
   "execution_count": null,
   "id": "1b46af00-6375-4e0d-b51b-748d94d271b2",
   "metadata": {},
   "outputs": [],
   "source": [
    "df = pd.read_csv"
   ]
  },
  {
   "cell_type": "markdown",
   "id": "b8dbe72f-1d6e-4ba9-8bb8-3e63da229e9c",
   "metadata": {
    "tags": []
   },
   "source": [
    "## Data Check"
   ]
  },
  {
   "cell_type": "code",
   "execution_count": null,
   "id": "46eae462-1434-47df-a205-87ea3e79e288",
   "metadata": {},
   "outputs": [],
   "source": [
    "# Check first 5 rows\n",
    "df.head()"
   ]
  },
  {
   "cell_type": "code",
   "execution_count": null,
   "id": "113ce68b-e6f9-4ce5-b8a5-9292c4da2dc0",
   "metadata": {},
   "outputs": [],
   "source": [
    "# Check 5 random records\n",
    "df.sample(5)"
   ]
  },
  {
   "cell_type": "code",
   "execution_count": null,
   "id": "a43fa188-e416-4d6a-ae71-0e8d6c85d2b0",
   "metadata": {},
   "outputs": [],
   "source": [
    "# Metadata\n",
    "df.info()"
   ]
  },
  {
   "cell_type": "markdown",
   "id": "2b1491c4-dbdc-49e3-b0e5-320d4e1a02dc",
   "metadata": {},
   "source": [
    "## Exploratory Data Analysis"
   ]
  },
  {
   "cell_type": "markdown",
   "id": "00183560-fe6b-4434-a3ab-4a21ca1a4a02",
   "metadata": {},
   "source": [
    "### Descriptive Statistics"
   ]
  },
  {
   "cell_type": "code",
   "execution_count": null,
   "id": "adc5de43-bebc-47be-ad04-1146d5188a69",
   "metadata": {},
   "outputs": [],
   "source": [
    "df.describe()"
   ]
  },
  {
   "cell_type": "markdown",
   "id": "a62a9df3-144d-4e6f-904d-98203d8dfcda",
   "metadata": {},
   "source": [
    "### Check cardinality (no. of categories) for categorical data"
   ]
  },
  {
   "cell_type": "code",
   "execution_count": null,
   "id": "f8df574e-11c8-42a2-8066-641478d631eb",
   "metadata": {},
   "outputs": [],
   "source": []
  },
  {
   "cell_type": "markdown",
   "id": "7d33c1bc-13df-403f-acfa-af4ae847ab35",
   "metadata": {
    "tags": []
   },
   "source": [
    "### Check Data Distribution\n",
    "There are a number of ways we can do this, however, one of the most common ways is through the use of a histogram."
   ]
  },
  {
   "cell_type": "code",
   "execution_count": null,
   "id": "2decdc51-eaea-40dd-abb3-091ff82e023b",
   "metadata": {},
   "outputs": [],
   "source": []
  },
  {
   "cell_type": "markdown",
   "id": "062f592e-6acb-4903-8b6d-c62e694d91a9",
   "metadata": {},
   "source": [
    "### Check for Outliers"
   ]
  },
  {
   "cell_type": "code",
   "execution_count": null,
   "id": "460dd822-944d-47e7-b1b3-b9cdfa697941",
   "metadata": {},
   "outputs": [],
   "source": []
  },
  {
   "cell_type": "markdown",
   "id": "fb07b70a-fc79-4eba-8176-0e21a18cf0c3",
   "metadata": {},
   "source": [
    "### Check for Correlated Variables"
   ]
  },
  {
   "cell_type": "code",
   "execution_count": null,
   "id": "8611747f-e58b-4969-986d-a0e5e7231f41",
   "metadata": {},
   "outputs": [],
   "source": []
  },
  {
   "cell_type": "markdown",
   "id": "b20076ef-b613-4634-8e00-b1ca90a1be56",
   "metadata": {},
   "source": [
    "## Feature Engineering"
   ]
  },
  {
   "cell_type": "code",
   "execution_count": null,
   "id": "751d119b-81a9-4dfb-955b-52c3ec6a0038",
   "metadata": {},
   "outputs": [],
   "source": []
  },
  {
   "cell_type": "markdown",
   "id": "a01e3130-f49c-43ae-9a01-5294c19cd556",
   "metadata": {},
   "source": [
    "### Handle Missing Data"
   ]
  },
  {
   "cell_type": "code",
   "execution_count": null,
   "id": "49c83bab-f434-49df-96ae-bf51f59fcb96",
   "metadata": {},
   "outputs": [],
   "source": []
  },
  {
   "cell_type": "markdown",
   "id": "0fdc7161-28ac-4190-b99f-cc0cd1c6a291",
   "metadata": {},
   "source": [
    "### Handle Duplicate Data"
   ]
  },
  {
   "cell_type": "code",
   "execution_count": null,
   "id": "586bdb7d-efc3-4c35-b3e3-1180a54af20e",
   "metadata": {},
   "outputs": [],
   "source": []
  }
 ],
 "metadata": {
  "kernelspec": {
   "display_name": "Python 3 (ipykernel)",
   "language": "python",
   "name": "python3"
  },
  "language_info": {
   "codemirror_mode": {
    "name": "ipython",
    "version": 3
   },
   "file_extension": ".py",
   "mimetype": "text/x-python",
   "name": "python",
   "nbconvert_exporter": "python",
   "pygments_lexer": "ipython3",
   "version": "3.11.5"
  }
 },
 "nbformat": 4,
 "nbformat_minor": 5
}
