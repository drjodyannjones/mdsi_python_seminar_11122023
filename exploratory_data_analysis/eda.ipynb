{
 "cells": [
  {
   "cell_type": "markdown",
   "id": "0e47af57",
   "metadata": {},
   "source": [
    "<div>\n",
    "<img src=\"../images/mdsi_logo.png\" width=\"200\"/>\n",
    "</div>"
   ]
  },
  {
   "cell_type": "markdown",
   "id": "949f8ed3",
   "metadata": {},
   "source": [
    "# Exploratory Data Analysis Guide\n",
    "Exploratory Data Analysis (or EDA for short) is one of the most essential steps in the machine learning lifecycle. In this step, you will discover insights about your data that could potentially lead to you solving your research problem. The EDA process is an iterative step in the machine learning lifecycle. You may start with an initial exploration but later in your project, you may find the need to perform additional analysis or visualization on some aspect of the data that you find interesting or puzzling.\n",
    "\n",
    "The overall objective of this step is to find out how your data is distributed, how your variables are correlated, identify missing values, identify duplicate values, identify outliers, and any other unique properties about your variables and how they interact with each other. \n",
    "\n",
    "In this notebook, we will take a look at how to perform the following actions on our dataset:\n",
    "- [ ]  Summary statistics\n",
    "- [ ]  The cardinality of categorical variables\n",
    "- [ ]  Distributions of numerical variables\n",
    "- [ ]  Identify Outliers\n",
    "- [ ]  Examine univariate relationships\n",
    "- [ ]  Examine bivariate relationships\n",
    "- [ ]  Correlation among key variables\n",
    "- [ ]  Aggregates"
   ]
  },
  {
   "cell_type": "markdown",
   "id": "b1ed0334",
   "metadata": {},
   "source": [
    "<div>\n",
    "<a href=\"https://clauswilke.com/dataviz/\"><img src=\"../images/fundamentals_data_viz.png\" width=\"200\"/></a>\n",
    "</div>\n",
    "An excellent resource for data visualization (the charting aspects of EDA) is Claus Wilke's text, \"Fundamentals of Data Visualization\", which can be found <a href=\"https://clauswilke.com/dataviz/\">here</a>."
   ]
  },
  {
   "cell_type": "markdown",
   "id": "1eee34de-29fe-4fa6-b8e7-bea2a3667147",
   "metadata": {},
   "source": [
    "## Summary Statistics"
   ]
  },
  {
   "cell_type": "markdown",
   "id": "66edb414-483f-41a0-96d3-36c5a77cc726",
   "metadata": {},
   "source": [
    "## Cardinality of Categorical Variables"
   ]
  },
  {
   "cell_type": "markdown",
   "id": "ec3e1e00-6a69-4124-888a-f1379177516c",
   "metadata": {},
   "source": [
    "## Distributions of Numerical Variables"
   ]
  },
  {
   "cell_type": "markdown",
   "id": "a69c743a-cbf3-48d9-95dd-158fa43c6385",
   "metadata": {},
   "source": [
    "## Identify Outliers"
   ]
  },
  {
   "cell_type": "markdown",
   "id": "57d09d2e",
   "metadata": {},
   "source": [
    "## Examine Univariate Relationships"
   ]
  },
  {
   "cell_type": "markdown",
   "id": "bdb0c1a8",
   "metadata": {},
   "source": [
    "## Examine Bivariate Relationships"
   ]
  },
  {
   "cell_type": "markdown",
   "id": "e533a204",
   "metadata": {},
   "source": [
    "## Correlations"
   ]
  },
  {
   "cell_type": "markdown",
   "id": "564ec9e2",
   "metadata": {},
   "source": [
    "## Aggregates"
   ]
  },
  {
   "cell_type": "markdown",
   "id": "379e28be",
   "metadata": {},
   "source": []
  }
 ],
 "metadata": {
  "kernelspec": {
   "display_name": "Python 3 (ipykernel)",
   "language": "python",
   "name": "python3"
  },
  "language_info": {
   "codemirror_mode": {
    "name": "ipython",
    "version": 3
   },
   "file_extension": ".py",
   "mimetype": "text/x-python",
   "name": "python",
   "nbconvert_exporter": "python",
   "pygments_lexer": "ipython3",
   "version": "3.11.5"
  }
 },
 "nbformat": 4,
 "nbformat_minor": 5
}
