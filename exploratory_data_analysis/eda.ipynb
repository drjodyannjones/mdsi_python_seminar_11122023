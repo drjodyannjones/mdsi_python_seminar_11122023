{
 "cells": [
  {
   "cell_type": "markdown",
   "id": "0e47af57",
   "metadata": {},
   "source": [
    "<div>\n",
    "<img src=\"../images/mdsi_logo.png\" width=\"200\"/>\n",
    "</div>"
   ]
  },
  {
   "cell_type": "markdown",
   "id": "949f8ed3",
   "metadata": {},
   "source": [
    "# A Comprehensive Blueprint for Exploratory Data Analysis\n",
    "Exploratory Data Analysis (or EDA for short) is one of the most essential steps in the machine learning lifecycle. In this step, you will discover insights about your data that could potentially lead to you solving your research problem. The EDA process is an iterative step in the machine learning lifecycle. You may start with an initial exploration but later in your project, you may find the need to perform additional analysis or visualization on some aspect of the data that you find interesting or puzzling.\n",
    "\n",
    "The overall objective of this step is to find out how your data is distributed, how your variables are correlated, identify missing values, identify duplicate values, identify outliers, and any other unique properties about your variables and how they interact with each other. \n",
    "\n",
    "In this notebook, we will take a look at how to perform the following actions on our dataset:\n",
    "- [ ]  Summary statistics\n",
    "- [ ]  The cardinality of categorical variables\n",
    "- [ ]  Distributions of numerical variables\n",
    "- [ ]  Identify Outliers\n",
    "- [ ]  Examine univariate relationships\n",
    "- [ ]  Examine bivariate relationships\n",
    "- [ ]  Correlation among key variables\n",
    "- [ ]  Aggregates"
   ]
  },
  {
   "cell_type": "markdown",
   "id": "b1ed0334",
   "metadata": {},
   "source": [
    "<div>\n",
    "<a href=\"https://clauswilke.com/dataviz/\"><img src=\"../images/fundamentals_data_viz.png\" width=\"200\"/></a>\n",
    "</div>\n",
    "An excellent resource for data visualization (the charting aspects of EDA) is Claus Wilke's text, \"Fundamentals of Data Visualization\", which can be found <a href=\"https://clauswilke.com/dataviz/\">here</a>."
   ]
  },
  {
   "cell_type": "markdown",
   "id": "ac7baaf2",
   "metadata": {},
   "source": [
    "# Import Libraries"
   ]
  },
  {
   "cell_type": "code",
   "execution_count": 1,
   "id": "9d59fe96",
   "metadata": {},
   "outputs": [
    {
     "ename": "ModuleNotFoundError",
     "evalue": "No module named 'numpy'",
     "output_type": "error",
     "traceback": [
      "\u001b[0;31m---------------------------------------------------------------------------\u001b[0m",
      "\u001b[0;31mModuleNotFoundError\u001b[0m                       Traceback (most recent call last)",
      "Cell \u001b[0;32mIn[1], line 3\u001b[0m\n\u001b[1;32m      1\u001b[0m \u001b[38;5;66;03m# Import Libraries\u001b[39;00m\n\u001b[0;32m----> 3\u001b[0m \u001b[38;5;28;01mimport\u001b[39;00m \u001b[38;5;21;01mnumpy\u001b[39;00m \u001b[38;5;28;01mas\u001b[39;00m \u001b[38;5;21;01mnp\u001b[39;00m\n\u001b[1;32m      4\u001b[0m \u001b[38;5;28;01mimport\u001b[39;00m \u001b[38;5;21;01mpandas\u001b[39;00m \u001b[38;5;28;01mas\u001b[39;00m \u001b[38;5;21;01mpd\u001b[39;00m\n\u001b[1;32m      5\u001b[0m \u001b[38;5;28;01mimport\u001b[39;00m \u001b[38;5;21;01mmatplotlib\u001b[39;00m\u001b[38;5;21;01m.\u001b[39;00m\u001b[38;5;21;01mpyplot\u001b[39;00m \u001b[38;5;28;01mas\u001b[39;00m \u001b[38;5;21;01mplt\u001b[39;00m\n",
      "\u001b[0;31mModuleNotFoundError\u001b[0m: No module named 'numpy'"
     ]
    }
   ],
   "source": [
    "# Import Libraries\n",
    "\n",
    "import numpy as np\n",
    "import pandas as pd\n",
    "import matplotlib.pyplot as plt\n",
    "import seaborn as sns\n"
   ]
  },
  {
   "cell_type": "code",
   "execution_count": null,
   "id": "6b5b0dab",
   "metadata": {},
   "outputs": [
    {
     "ename": "",
     "evalue": "",
     "output_type": "error",
     "traceback": [
      "\u001b[1;31mThe kernel failed to start as 'cursor_in_leading_ws' could not be imported from '/Users/drjodyannjones/opt/anaconda3/lib/python3.9/site-packages/IPython/terminal/shortcuts/__init__.py'.\n",
      "\u001b[1;31mClick <a href='https://aka.ms/kernelFailuresModuleImportErrFromFile'>here</a> for more info."
     ]
    }
   ],
   "source": [
    "# Import Dataset\n",
    "# Pandas is a rich library with many functions to work with datasets. We import it and use it to read the csv file.\n",
    "\n",
    "import pandas as pd\n",
    "df = pd.read_csv('..\\datasets\\seoul_bike_data.csv', encoding='ISO-8859-1')\n",
    "\n",
    "# We use the head method to check the first 5 rows of the dataset.\n",
    "df.sample(10)"
   ]
  },
  {
   "cell_type": "markdown",
   "id": "cee29810",
   "metadata": {},
   "source": [
    "# Getting Metadata"
   ]
  },
  {
   "cell_type": "code",
   "execution_count": null,
   "id": "3542ab4f",
   "metadata": {},
   "outputs": [
    {
     "ename": "",
     "evalue": "",
     "output_type": "error",
     "traceback": [
      "\u001b[1;31mThe kernel failed to start as 'cursor_in_leading_ws' could not be imported from '/Users/drjodyannjones/opt/anaconda3/lib/python3.9/site-packages/IPython/terminal/shortcuts/__init__.py'.\n",
      "\u001b[1;31mClick <a href='https://aka.ms/kernelFailuresModuleImportErrFromFile'>here</a> for more info."
     ]
    }
   ],
   "source": [
    "# Pandas info method provides metadata about the dataset.\n",
    "# Metadata is important because it provides information about the data types of the columns in the dataset.\n",
    "# Knowing the data types of your dataset will help you to know how to handle specific columns in your analysis.\n",
    "# There is also other useful information such as the how many rows, how many colums.\n",
    "\n",
    "import pandas as pd\n",
    "df.info()"
   ]
  },
  {
   "cell_type": "markdown",
   "id": "ebc35dbb",
   "metadata": {},
   "source": [
    "# Getting the Shape the Data"
   ]
  },
  {
   "cell_type": "code",
   "execution_count": null,
   "id": "3614ffef",
   "metadata": {},
   "outputs": [
    {
     "ename": "",
     "evalue": "",
     "output_type": "error",
     "traceback": [
      "\u001b[1;31mThe kernel failed to start as 'cursor_in_leading_ws' could not be imported from '/Users/drjodyannjones/opt/anaconda3/lib/python3.9/site-packages/IPython/terminal/shortcuts/__init__.py'.\n",
      "\u001b[1;31mClick <a href='https://aka.ms/kernelFailuresModuleImportErrFromFile'>here</a> for more info."
     ]
    }
   ],
   "source": [
    "# If you just want to know how many rows and columns are in your dataset, you can use pandas shape method.\n",
    "\n",
    "df.shape"
   ]
  },
  {
   "cell_type": "code",
   "execution_count": null,
   "id": "fb681a41",
   "metadata": {},
   "outputs": [
    {
     "ename": "",
     "evalue": "",
     "output_type": "error",
     "traceback": [
      "\u001b[1;31mThe kernel failed to start as 'cursor_in_leading_ws' could not be imported from '/Users/drjodyannjones/opt/anaconda3/lib/python3.9/site-packages/IPython/terminal/shortcuts/__init__.py'.\n",
      "\u001b[1;31mClick <a href='https://aka.ms/kernelFailuresModuleImportErrFromFile'>here</a> for more info."
     ]
    }
   ],
   "source": [
    "# If you want to make your code more readable, you can use the print function and f-strings.\n",
    "# Combining this with indexing will make your code easier to read.\n",
    "\n",
    "print(f\"The number of rows in the dataset is: {df.shape[0]}\")\n",
    "print(f\"The number of columns in the dataset is: {df.shape[1]}\")"
   ]
  },
  {
   "cell_type": "markdown",
   "id": "1eee34de-29fe-4fa6-b8e7-bea2a3667147",
   "metadata": {},
   "source": [
    "# Summary Statistics"
   ]
  },
  {
   "cell_type": "markdown",
   "id": "6a170c72",
   "metadata": {},
   "source": [
    "At the start of any data project, it is always a good idea to get a sense of basic descriptive statistics. For a quick and easy to follow background on descriptive statistics, please read: https://www.questionpro.de/en/deskriptive-statistik/"
   ]
  },
  {
   "cell_type": "code",
   "execution_count": null,
   "id": "a206f7bc",
   "metadata": {},
   "outputs": [
    {
     "ename": "",
     "evalue": "",
     "output_type": "error",
     "traceback": [
      "\u001b[1;31mThe kernel failed to start as 'cursor_in_leading_ws' could not be imported from '/Users/drjodyannjones/opt/anaconda3/lib/python3.9/site-packages/IPython/terminal/shortcuts/__init__.py'.\n",
      "\u001b[1;31mClick <a href='https://aka.ms/kernelFailuresModuleImportErrFromFile'>here</a> for more info."
     ]
    }
   ],
   "source": [
    "# Pandas describe method prints summary statistics for numeric variables.\n",
    "# The round function is used to round the summary statistics to 2 decimal places.\n",
    "# The T method is used to transpose the summary statistics.\n",
    "# This technique of using multiple methods and functions in one line is called chaining.\n",
    "\n",
    "import pandas as pd\n",
    "df.describe().round(2).T"
   ]
  },
  {
   "cell_type": "markdown",
   "id": "66edb414-483f-41a0-96d3-36c5a77cc726",
   "metadata": {},
   "source": [
    "## Cardinality of Categorical Variables"
   ]
  },
  {
   "cell_type": "code",
   "execution_count": null,
   "id": "3d757ef6",
   "metadata": {},
   "outputs": [
    {
     "ename": "",
     "evalue": "",
     "output_type": "error",
     "traceback": [
      "\u001b[1;31mThe kernel failed to start as 'cursor_in_leading_ws' could not be imported from '/Users/drjodyannjones/opt/anaconda3/lib/python3.9/site-packages/IPython/terminal/shortcuts/__init__.py'.\n",
      "\u001b[1;31mClick <a href='https://aka.ms/kernelFailuresModuleImportErrFromFile'>here</a> for more info."
     ]
    }
   ],
   "source": [
    "# Before we can check the cardinality of the categorial variables, we first need to identify them, then assign them to a new variable.\n",
    "\n",
    "categorical_variables = df.select_dtypes(include=['object']).columns\n",
    "categorical_variables"
   ]
  },
  {
   "cell_type": "markdown",
   "id": "76bc2a50",
   "metadata": {},
   "source": [
    "Uh-oh, it seems like we have a column that was assigned an incorrect data type. Can you guess which one?\n",
    "This is a common occurrence when working with datasets, which is why it is very important to check your metadata and use the head, tail and sample methods to thoroughly investigate your data.In this case, the column that is out of place is the Date column. Python has a special data type for dates. It's called datetime.\n",
    "I will show you how to convert the Date column from object to datetime in the next cell."
   ]
  },
  {
   "cell_type": "code",
   "execution_count": null,
   "id": "2d6c4da0",
   "metadata": {},
   "outputs": [
    {
     "ename": "",
     "evalue": "",
     "output_type": "error",
     "traceback": [
      "\u001b[1;31mThe kernel failed to start as 'cursor_in_leading_ws' could not be imported from '/Users/drjodyannjones/opt/anaconda3/lib/python3.9/site-packages/IPython/terminal/shortcuts/__init__.py'.\n",
      "\u001b[1;31mClick <a href='https://aka.ms/kernelFailuresModuleImportErrFromFile'>here</a> for more info."
     ]
    }
   ],
   "source": [
    "# Convert Date column to datetime format\n",
    "\n",
    "df['Date'] = pd.to_datetime(df['Date'], format='%d/%m/%Y')\n",
    "df['Date'].info()"
   ]
  },
  {
   "cell_type": "code",
   "execution_count": null,
   "id": "d34a89cc",
   "metadata": {},
   "outputs": [
    {
     "ename": "",
     "evalue": "",
     "output_type": "error",
     "traceback": [
      "\u001b[1;31mThe kernel failed to start as 'cursor_in_leading_ws' could not be imported from '/Users/drjodyannjones/opt/anaconda3/lib/python3.9/site-packages/IPython/terminal/shortcuts/__init__.py'.\n",
      "\u001b[1;31mClick <a href='https://aka.ms/kernelFailuresModuleImportErrFromFile'>here</a> for more info."
     ]
    }
   ],
   "source": [
    "# When you're using notebooks, you must run the code cells in order of sequence.\n",
    "# In some cases, like this one, since we performed a transformation on a variable, we will need to re-run the code.\n",
    "# This is why modular programming makes our lives so much easier. Using classes and functions to modularize our code helps us from repeating ourselves.\n",
    "# DRY (Do not repeat yourself) principle is an important principle in OOP software engineering.\n",
    "\n",
    "categorical_variables = df.select_dtypes(include=['object']).columns\n",
    "categorical_variables"
   ]
  },
  {
   "cell_type": "code",
   "execution_count": null,
   "id": "54835af7",
   "metadata": {},
   "outputs": [
    {
     "ename": "",
     "evalue": "",
     "output_type": "error",
     "traceback": [
      "\u001b[1;31mThe kernel failed to start as 'cursor_in_leading_ws' could not be imported from '/Users/drjodyannjones/opt/anaconda3/lib/python3.9/site-packages/IPython/terminal/shortcuts/__init__.py'.\n",
      "\u001b[1;31mClick <a href='https://aka.ms/kernelFailuresModuleImportErrFromFile'>here</a> for more info."
     ]
    }
   ],
   "source": [
    "df.nunique().sort_values(ascending=False)"
   ]
  },
  {
   "cell_type": "markdown",
   "id": "3f343bc0",
   "metadata": {},
   "source": [
    "# Brief Statistics Interlude: Distributions"
   ]
  },
  {
   "cell_type": "code",
   "execution_count": null,
   "id": "011c8dce",
   "metadata": {},
   "outputs": [
    {
     "ename": "",
     "evalue": "",
     "output_type": "error",
     "traceback": [
      "\u001b[1;31mThe kernel failed to start as 'cursor_in_leading_ws' could not be imported from '/Users/drjodyannjones/opt/anaconda3/lib/python3.9/site-packages/IPython/terminal/shortcuts/__init__.py'.\n",
      "\u001b[1;31mClick <a href='https://aka.ms/kernelFailuresModuleImportErrFromFile'>here</a> for more info."
     ]
    }
   ],
   "source": [
    "# To visualize the distribution of numerical variables, we will use pandas hist function.\n",
    "# Because we have so many numerical variables, we will use a for loop to plot them.\n",
    "\n",
    "for column in df.columns:\n",
    "    df[column].hist()\n",
    "    plt.title(column)\n",
    "    plt.show()"
   ]
  },
  {
   "cell_type": "markdown",
   "id": "88d6b785",
   "metadata": {},
   "source": [
    "## Common Distributions of Numerical Variables"
   ]
  },
  {
   "cell_type": "markdown",
   "metadata": {},
   "source": [
    "In statistics, there are two broad categories of distributions: discrete and continuous.\n",
    "\n",
    "Discrete Distributions include:\n",
    "\n",
    "1. Bernoulli Distribution - This is a distribution that models the probability of a single trial with two possible outcomes (E.g. a coin toss).\n",
    "\n",
    "The following graph represents a bernoulli distribution.\n",
    "\n",
    "<img src=\"https://upload.wikimedia.org/wikipedia/commons/7/74/Bernoulli_Distribution.PNG\" alt=\"Bernoulli Distribution\" title=\"Bernoulli Distribution\" width=\"50%\">\n",
    "\n",
    "---\n",
    "\n",
    "\n",
    "2. Binomial Distribution - This is a distribution that models the number of successes in a fixed number of independent trials, each with a constant probability of success. Binomial distributions are most commonly observed in target features in classification problems (e.g. a coin toss repeated several times). \n",
    "\n",
    "<img src=\"https://upload.wikimedia.org/wikipedia/en/c/cc/Binomial_distribution_pdf.png\" alt=\"Binomial Distribution\" title=\"Binomial Distribution\" width=\"50%\">\n",
    "\n",
    "---\n",
    "\n",
    "3. Poisson Distribution -\n",
    "\n",
    "<img src=\"https://upload.wikimedia.org/wikipedia/commons/thumb/1/16/Poisson_pmf.svg/1280px-Poisson_pmf.svg.png\" alt=\"Poisson Distribution\" title=\"Poisson Distribution\" width=\"50%\">\n",
    "\n",
    "---\n",
    "\n",
    "Continuous Distributions include:\n",
    "\n",
    "1. Uniform Distribution\n",
    "\n",
    "<img src=\"https://upload.wikimedia.org/wikipedia/commons/c/c2/Uniform_distribution.svg\" alt=\"Uniform Distribution\" title=\"Uniform Distribution\" width=\"50%\">\n",
    "\n",
    "\n",
    "2. Normal Distribution\n",
    "\n",
    "<img src=\"https://upload.wikimedia.org/wikipedia/commons/3/32/Normal_Distribution_Sigma.svg\" alt=\"Normal Distribution\" title=\"Normal Distribution\" width=\"50%\">\n",
    "\n",
    "3. Exponential Distribution\n",
    "\n",
    "<img src=\"https://upload.wikimedia.org/wikipedia/commons/0/02/Exponential_probability_density.svg\" alt=\"Exponential Distribution\" title=\"Exponential Distribution\" width=\"50%\">\n"
   ]
  },
  {
   "cell_type": "markdown",
   "id": "a69c743a-cbf3-48d9-95dd-158fa43c6385",
   "metadata": {},
   "source": [
    "## Outliers in Exploratory Data Analysis\n",
    "Another important aspect of EDA is to identify values that may fall outside of the scope of typical values. Outliers are data points that significantly differ from other observations in a dataset.These data points  stand out from the rest of your data, like a very tall person in a group photo or a surprisingly expensive item in your shopping cart. In data science, identifying and understanding these unusual points is crucial because they can significantly affect your analysis and the conclusions you draw from your data.\n",
    "\n"
   ]
  },
  {
   "cell_type": "markdown",
   "id": "d41b67c2",
   "metadata": {},
   "source": [
    "### Introduction to Outliers\n",
    "Outliers can occur due to various reasons:\n",
    "\n",
    "Measurement or data entry errors\n",
    "Exceptional but genuine cases\n",
    "Fraudulent activities\n",
    "Natural extreme values in the distribution\n",
    "\n",
    "It's important to identify outliers and make informed decisions on how to handle them based on the context of your data and analysis goals."
   ]
  },
  {
   "cell_type": "markdown",
   "id": "ea684a2e",
   "metadata": {},
   "source": [
    "### Identifying Outliers\n",
    "Let's explore two common methods for identifying outliers: 1) the Z-score method and 2) the Interquartile Range (IQR) method. We'll explain these in simple terms and then show how to implement them in Python."
   ]
  },
  {
   "cell_type": "markdown",
   "id": "64aa79cc",
   "metadata": {},
   "source": [
    "#### 1. Z-score Method\n",
    "\n",
    "The Z-score method identifies outliers based on how many standard deviations a data point is from the mean.\n",
    "\n",
    "Imagine you're a teacher grading exam papers. Most scores fall within a typical range, but a few students might have exceptionally high or low scores. The Z-score method helps us identify these unusual scores.\n",
    "\n",
    "Here's how it works:\n",
    "\n",
    "- We calculate the average (mean) score for the class.\n",
    "- We then determine how spread out the scores are using a measure called standard deviation.\n",
    "- For each student's score, we calculate how many standard deviations it is away from the average. This number is called the Z-score.\n",
    "\n",
    "If a score's Z-score is very high or very low (typically above 3 or below -3 threshold), we consider it an outlier.\n",
    "\n",
    "Think of it like this: If you're 7 feet tall in a country where the average height is 5'6\" with a standard deviation of 3 inches, you'd be many standard deviations above average - definitely an outlier!\n",
    "\n",
    "Let's see how to do this in Python. This code will generate a larger dataset with 1000 normally distributed data points and 3 outliers:"
   ]
  },
  {
   "cell_type": "code",
   "execution_count": null,
   "id": "5338d7d4",
   "metadata": {},
   "outputs": [
    {
     "ename": "",
     "evalue": "",
     "output_type": "error",
     "traceback": [
      "\u001b[1;31mThe kernel failed to start as 'cursor_in_leading_ws' could not be imported from '/Users/drjodyannjones/opt/anaconda3/lib/python3.9/site-packages/IPython/terminal/shortcuts/__init__.py'.\n",
      "\u001b[1;31mClick <a href='https://aka.ms/kernelFailuresModuleImportErrFromFile'>here</a> for more info."
     ]
    }
   ],
   "source": [
    "import numpy as np\n",
    "import pandas as pd\n",
    "from scipy import stats\n",
    "\n",
    "def identify_outliers_zscore(data, threshold=3):\n",
    "    # Ensure the input is a numpy array\n",
    "    data = np.array(data)\n",
    "\n",
    "    # Calculate the Z-score for each data point\n",
    "    z_scores = np.abs(stats.zscore(data))\n",
    "\n",
    "    # Identify outliers: True for outliers, False for non-outliers\n",
    "    outliers = z_scores > threshold\n",
    "\n",
    "    return z_scores, outliers\n",
    "\n",
    "# Generate a large dataset with normally distributed data and some outliers\n",
    "np.random.seed(0)  # For reproducibility\n",
    "normal_data = np.random.normal(loc=100, scale=15, size=1000)  # Mean=100, SD=15, n=1000\n",
    "outliers_data = np.array([200, 210, 220])  # Adding some outliers\n",
    "data = np.concatenate((normal_data, outliers_data))\n",
    "exam_scores = pd.Series(data)\n",
    "\n",
    "# Identify outliers using z-score method\n",
    "z_scores, outliers = identify_outliers_zscore(exam_scores)\n",
    "\n",
    "print(\"Exam scores:\", exam_scores.values)\n",
    "print(\"Z-scores:\", z_scores)\n",
    "print(\"Outliers (True means it's an outlier):\", outliers)\n",
    "print(\"Outlier values:\", exam_scores[outliers])"
   ]
  },
  {
   "cell_type": "markdown",
   "id": "2a410040",
   "metadata": {},
   "source": [
    "#### 2. Interquartile Range (IQR) Method\n",
    "\n",
    "The IQR method uses the concept of quartiles to identify outliers. The IQR method is like focusing on the middle 50% of your data and then identifying anything that falls too far outside this range.\n",
    "Imagine you're analyzing the prices of houses in a neighborhood:\n",
    "\n",
    "First, we arrange all the house prices from lowest to highest.\n",
    "We find three key points:\n",
    "\n",
    "Q1 (1st Quartile): The price below which 25% of the houses fall\n",
    "Q2 (Median): The middle price\n",
    "Q3 (3rd Quartile): The price below which 75% of the houses fall\n",
    "\n",
    "\n",
    "We calculate the IQR, which is the range between Q1 and Q3.\n",
    "We then define a \"normal\" range: from (Q1 - 1.5 * IQR) to (Q3 + 1.5 * IQR).\n",
    "Any house price falling outside this range is considered an outlier.\n",
    "\n",
    "It's like saying, \"Most houses in this neighborhood cost between $200,000 and $400,000. If a house costs less than $100,000 or more than $500,000, it's unusually cheap or expensive for this area.\"\n",
    "\n",
    "\n",
    "Here's how we implement this in Python:"
   ]
  },
  {
   "cell_type": "code",
   "execution_count": null,
   "id": "3756bd4b",
   "metadata": {},
   "outputs": [
    {
     "ename": "",
     "evalue": "",
     "output_type": "error",
     "traceback": [
      "\u001b[1;31mThe kernel failed to start as 'cursor_in_leading_ws' could not be imported from '/Users/drjodyannjones/opt/anaconda3/lib/python3.9/site-packages/IPython/terminal/shortcuts/__init__.py'.\n",
      "\u001b[1;31mClick <a href='https://aka.ms/kernelFailuresModuleImportErrFromFile'>here</a> for more info."
     ]
    }
   ],
   "source": [
    "import pandas as pd\n",
    "\n",
    "def identify_outliers_iqr(data, factor=1.5):\n",
    "    # Calculate Q1, Q3, and IQR\n",
    "    Q1 = data.quantile(0.25)\n",
    "    Q3 = data.quantile(0.75)\n",
    "    IQR = Q3 - Q1\n",
    "\n",
    "    # Define the outlier range\n",
    "    lower_bound = Q1 - factor * IQR\n",
    "    upper_bound = Q3 + factor * IQR\n",
    "\n",
    "    # Identify outliers: True for outliers, False for non-outliers\n",
    "    outliers = (data < lower_bound) | (data > upper_bound)\n",
    "\n",
    "    return outliers\n",
    "\n",
    "# Example usage\n",
    "house_prices = pd.Series([150000, 160000, 170000, 180000, 190000, 200000, 210000, 220000, 500000])\n",
    "outliers = identify_outliers_iqr(house_prices)\n",
    "\n",
    "print(\"House prices:\", house_prices)\n",
    "print(\"Outliers (True means it's an outlier):\", outliers)\n",
    "print(\"Outlier values:\", house_prices[outliers])"
   ]
  },
  {
   "cell_type": "code",
   "execution_count": null,
   "id": "c4cf5b25",
   "metadata": {},
   "outputs": [
    {
     "ename": "",
     "evalue": "",
     "output_type": "error",
     "traceback": [
      "\u001b[1;31mThe kernel failed to start as 'cursor_in_leading_ws' could not be imported from '/Users/drjodyannjones/opt/anaconda3/lib/python3.9/site-packages/IPython/terminal/shortcuts/__init__.py'.\n",
      "\u001b[1;31mClick <a href='https://aka.ms/kernelFailuresModuleImportErrFromFile'>here</a> for more info."
     ]
    }
   ],
   "source": [
    "def identify_outliers_iqr(data, factor=1.5):\n",
    "    Q1 = data.quantile(0.25)\n",
    "    Q3 = data.quantile(0.75)\n",
    "    IQR = Q3 - Q1\n",
    "    lower_bound = Q1 - factor * IQR\n",
    "    upper_bound = Q3 + factor * IQR\n",
    "    return (data < lower_bound) | (data > upper_bound)\n",
    "\n",
    "# Example usage\n",
    "outliers_iqr = identify_outliers_iqr(df['values'])\n",
    "print(df[outliers_iqr])"
   ]
  },
  {
   "cell_type": "markdown",
   "id": "6c6232ab",
   "metadata": {},
   "source": [
    "In this example, a house price of 500000 would likely be identified as an outlier because it's much higher than the other prices in the neighborhood.\n",
    "Both methods help us spot unusual data points, but they have different strengths:\n",
    "\n",
    "The Z-score method is great when your data follows a normal distribution (like a bell curve).\n",
    "\n",
    "\n",
    "The IQR method works well even when your data isn't normally distributed and is less affected by extreme outliers.\n",
    "\n",
    "Understanding these methods will help you identify unusual patterns in your data, which is a crucial skill in data science. Remember, once you've identified outliers, the next step is to investigate why they exist and decide how to handle them in your analysis."
   ]
  },
  {
   "cell_type": "markdown",
   "id": "b052c57d",
   "metadata": {},
   "source": [
    "### Investigating Why Outliers Exist\n",
    "\n",
    "Once you've identified outliers in your data, the next crucial step is to understand why they exist. This investigation is like being a detective – you're looking for clues to explain these unusual data points.\n",
    "\n",
    "#### Common Reasons for Outliers\n",
    "\n",
    "- Data Entry Errors: Sometimes, outliers are simply mistakes. Imagine you're recording people's ages, and you see a value of 250. It's likely someone accidentally added an extra digit!\n",
    "\n",
    "\n",
    "- Measurement Errors: Your measuring tool might be faulty. If you're weighing boxes and one suddenly weighs 1000 times more than the others, your scale might have malfunctioned.\n",
    "\n",
    "\n",
    "- Natural Extreme Values: Some outliers are real and important. In a study of household incomes, a few billionaires would be outliers but are genuinely part of the population.\n",
    "\n",
    "\n",
    "- Changes in the System: Outliers can indicate important events. If you're tracking website traffic and see a huge spike, it might correspond to a successful marketing campaign.\n",
    "\n",
    "\n",
    "- Fraudulent Activity: In fields like finance, outliers can signal fraud. An unusually large transaction in a bank account might need investigation."
   ]
  },
  {
   "cell_type": "markdown",
   "id": "340c33bd",
   "metadata": {},
   "source": [
    "#### Steps to Investigate Outliers\n",
    "\n",
    "##### 1. Visualize the Data: Create plots like histograms or box plots to see where the outliers fall."
   ]
  },
  {
   "cell_type": "code",
   "execution_count": null,
   "id": "9a64b817",
   "metadata": {},
   "outputs": [
    {
     "ename": "",
     "evalue": "",
     "output_type": "error",
     "traceback": [
      "\u001b[1;31mThe kernel failed to start as 'cursor_in_leading_ws' could not be imported from '/Users/drjodyannjones/opt/anaconda3/lib/python3.9/site-packages/IPython/terminal/shortcuts/__init__.py'.\n",
      "\u001b[1;31mClick <a href='https://aka.ms/kernelFailuresModuleImportErrFromFile'>here</a> for more info."
     ]
    }
   ],
   "source": [
    "import matplotlib.pyplot as plt\n",
    "import seaborn as sns\n",
    "\n",
    "plt.figure(figsize=(10, 6))\n",
    "sns.boxplot(x=house_prices)\n",
    "plt.title('Box Plot of House Prices')\n",
    "plt.show()"
   ]
  },
  {
   "cell_type": "markdown",
   "id": "afc151ce",
   "metadata": {},
   "source": [
    "##### 2. Check the Original Source: Go back to where the data came from. Was it entered correctly? Was there a note about unusual circumstances?\n",
    "\n",
    "##### 3. Look for Patterns: Are the outliers related to specific conditions? Maybe all the outliers occur on weekends or in a particular location.\n",
    "\n",
    "##### 4. Domain Knowledge: Use your understanding of the field. In a medical study, extreme values might indicate a new condition rather than an error.\n",
    "\n",
    "##### 5.Cross-Reference: Check if the outlier makes sense when compared to other related data points."
   ]
  },
  {
   "cell_type": "markdown",
   "id": "a88930d6",
   "metadata": {},
   "source": [
    "#### Example Investigation\n",
    "Let's say we're analyzing delivery times for a pizza company:"
   ]
  },
  {
   "cell_type": "code",
   "execution_count": null,
   "id": "4e46f3ac",
   "metadata": {},
   "outputs": [
    {
     "ename": "",
     "evalue": "",
     "output_type": "error",
     "traceback": [
      "\u001b[1;31mThe kernel failed to start as 'cursor_in_leading_ws' could not be imported from '/Users/drjodyannjones/opt/anaconda3/lib/python3.9/site-packages/IPython/terminal/shortcuts/__init__.py'.\n",
      "\u001b[1;31mClick <a href='https://aka.ms/kernelFailuresModuleImportErrFromFile'>here</a> for more info."
     ]
    }
   ],
   "source": [
    "delivery_times = pd.Series([20, 25, 30, 35, 40, 120])\n",
    "print(\"Delivery times (minutes):\", delivery_times)\n",
    "print(\"Outliers:\", identify_outliers_iqr(delivery_times))"
   ]
  },
  {
   "cell_type": "markdown",
   "id": "af077630",
   "metadata": {},
   "source": [
    "We see that 120 minutes is identified as an outlier. To investigate:\n",
    "\n",
    "We visualize the data and confirm it's much higher than other values.\n",
    "We check the original order and see it was placed during a severe thunderstorm.\n",
    "We look for patterns and notice no other outliers that day.\n",
    "Using our knowledge of pizza delivery, we know bad weather can cause delays.\n",
    "We cross-reference with weather data and confirm a storm at that time.\n",
    "\n",
    "Conclusion: This outlier is likely a genuine extreme value caused by unusual weather conditions."
   ]
  },
  {
   "cell_type": "markdown",
   "id": "7b2be0df",
   "metadata": {},
   "source": [
    "### Treating Outliers\n",
    "\n",
    "Once you've investigated your outliers, you need to decide how to handle them. There's no one-size-fits-all approach, but here are some common techniques:"
   ]
  },
  {
   "cell_type": "markdown",
   "id": "7f8085af",
   "metadata": {},
   "source": [
    "#### Treatment #1: Removing Outliers\n",
    "This is like taking a group photo and asking the unusually tall person to step out. It's simple but can lose important information.\n",
    "\n",
    "**When to use:**\n",
    "\n",
    "* When the outlier is clearly an error (like an age of 250 years).\n",
    "* When you're certain the outlier doesn't represent your target population"
   ]
  },
  {
   "cell_type": "code",
   "execution_count": null,
   "id": "55f9ef0b",
   "metadata": {},
   "outputs": [
    {
     "ename": "",
     "evalue": "",
     "output_type": "error",
     "traceback": [
      "\u001b[1;31mThe kernel failed to start as 'cursor_in_leading_ws' could not be imported from '/Users/drjodyannjones/opt/anaconda3/lib/python3.9/site-packages/IPython/terminal/shortcuts/__init__.py'.\n",
      "\u001b[1;31mClick <a href='https://aka.ms/kernelFailuresModuleImportErrFromFile'>here</a> for more info."
     ]
    }
   ],
   "source": [
    "def remove_outliers(data):\n",
    "    outliers = identify_outliers_iqr(data)\n",
    "    return data[~outliers]\n",
    "\n",
    "cleaned_prices = remove_outliers(house_prices)\n",
    "print(\"Original data:\", house_prices)\n",
    "print(\"Data with outliers removed:\", cleaned_prices)"
   ]
  },
  {
   "cell_type": "markdown",
   "id": "82724f9b",
   "metadata": {},
   "source": [
    "#### Treatment #2: Capping Outliers (Winsorization)\n",
    "This is like telling the tall person in the photo to kneel down a bit. We're not removing them, just bringing them closer to the rest of the group.\n",
    "\n",
    "**When to use:**\n",
    "\n",
    "* When you want to reduce the impact of outliers without losing data points\n",
    "* When outliers are extreme but potentially contain some information"
   ]
  },
  {
   "cell_type": "code",
   "execution_count": null,
   "id": "f6792f70",
   "metadata": {},
   "outputs": [
    {
     "ename": "",
     "evalue": "",
     "output_type": "error",
     "traceback": [
      "\u001b[1;31mThe kernel failed to start as 'cursor_in_leading_ws' could not be imported from '/Users/drjodyannjones/opt/anaconda3/lib/python3.9/site-packages/IPython/terminal/shortcuts/__init__.py'.\n",
      "\u001b[1;31mClick <a href='https://aka.ms/kernelFailuresModuleImportErrFromFile'>here</a> for more info."
     ]
    }
   ],
   "source": [
    "def cap_outliers(data):\n",
    "    Q1 = data.quantile(0.25)\n",
    "    Q3 = data.quantile(0.75)\n",
    "    IQR = Q3 - Q1\n",
    "    lower_bound = Q1 - 1.5 * IQR\n",
    "    upper_bound = Q3 + 1.5 * IQR\n",
    "    return data.clip(lower=lower_bound, upper=upper_bound)\n",
    "\n",
    "capped_prices = cap_outliers(house_prices)\n",
    "print(\"Original data:\", house_prices)\n",
    "print(\"Data with outliers capped:\", capped_prices)"
   ]
  },
  {
   "cell_type": "markdown",
   "id": "c65e5914",
   "metadata": {},
   "source": [
    "#### Treatment #3: Transforming Data\n",
    "\n",
    "This is like using a special camera lens that makes everyone in the photo look more similar in height. \n",
    "\n",
    "We're changing how we view the data to reduce the impact of outliers.\n",
    "\n",
    "**When to use:**\n",
    "\n",
    "- When your data is skewed (not symmetrically distributed)\n",
    "- When you want to preserve all data points but reduce the impact of extreme values"
   ]
  },
  {
   "cell_type": "code",
   "execution_count": null,
   "id": "b43a6f04",
   "metadata": {},
   "outputs": [
    {
     "ename": "",
     "evalue": "",
     "output_type": "error",
     "traceback": [
      "\u001b[1;31mThe kernel failed to start as 'cursor_in_leading_ws' could not be imported from '/Users/drjodyannjones/opt/anaconda3/lib/python3.9/site-packages/IPython/terminal/shortcuts/__init__.py'.\n",
      "\u001b[1;31mClick <a href='https://aka.ms/kernelFailuresModuleImportErrFromFile'>here</a> for more info."
     ]
    }
   ],
   "source": [
    "import numpy as np\n",
    "\n",
    "def log_transform(data):\n",
    "    return np.log1p(data)  # log1p is log(1+x), which handles zero values\n",
    "\n",
    "transformed_prices = log_transform(house_prices)\n",
    "print(\"Original data:\", house_prices)\n",
    "print(\"Log-transformed data:\", transformed_prices)"
   ]
  },
  {
   "cell_type": "markdown",
   "id": "1a4e3a44",
   "metadata": {},
   "source": [
    "#### Treatment #4: Treating Outliers as a Separate Category\n",
    "\n",
    "Sometimes, outliers are interesting in their own right. Instead of removing or changing them, we might create a new category for them.\n",
    "\n",
    "**When to use:**\n",
    "\n",
    "- When outliers represent a meaningful subgroup in your data\n",
    "- When you want to study both the main trend and the unusual cases"
   ]
  },
  {
   "cell_type": "code",
   "execution_count": null,
   "id": "6fd5c058",
   "metadata": {},
   "outputs": [
    {
     "ename": "",
     "evalue": "",
     "output_type": "error",
     "traceback": [
      "\u001b[1;31mThe kernel failed to start as 'cursor_in_leading_ws' could not be imported from '/Users/drjodyannjones/opt/anaconda3/lib/python3.9/site-packages/IPython/terminal/shortcuts/__init__.py'.\n",
      "\u001b[1;31mClick <a href='https://aka.ms/kernelFailuresModuleImportErrFromFile'>here</a> for more info."
     ]
    }
   ],
   "source": [
    "def categorize_outliers(data):\n",
    "    outliers = identify_outliers_iqr(data)\n",
    "    categories = pd.Series(['normal' if not outlier else 'outlier' for outlier in outliers])\n",
    "    return pd.concat([data, categories.rename('category')], axis=1)\n",
    "\n",
    "categorized_prices = categorize_outliers(house_prices)\n",
    "print(categorized_prices)"
   ]
  },
  {
   "cell_type": "markdown",
   "id": "88879372",
   "metadata": {},
   "source": [
    "Remember, the goal of treating outliers isn't always to get rid of them. Sometimes, outliers are the most interesting part of your data! \n",
    "\n",
    "The key is to handle them in a way that allows you to draw accurate and meaningful conclusions from your analysis."
   ]
  },
  {
   "cell_type": "markdown",
   "id": "124d27e4",
   "metadata": {},
   "source": [
    "### Impact of Outlier Treatment\n",
    "Let's see how these different treatments affect our data:"
   ]
  },
  {
   "cell_type": "code",
   "execution_count": null,
   "id": "73786984",
   "metadata": {},
   "outputs": [
    {
     "ename": "",
     "evalue": "",
     "output_type": "error",
     "traceback": [
      "\u001b[1;31mThe kernel failed to start as 'cursor_in_leading_ws' could not be imported from '/Users/drjodyannjones/opt/anaconda3/lib/python3.9/site-packages/IPython/terminal/shortcuts/__init__.py'.\n",
      "\u001b[1;31mClick <a href='https://aka.ms/kernelFailuresModuleImportErrFromFile'>here</a> for more info."
     ]
    }
   ],
   "source": [
    "import pandas as pd\n",
    "import numpy as np\n",
    "\n",
    "def compare_statistics(original, removed, capped, transformed):\n",
    "    data_dict = {\n",
    "        'Original': original,\n",
    "        'Outliers Removed': removed,\n",
    "        'Outliers Capped': capped,\n",
    "        'Log-Transformed': transformed\n",
    "    }\n",
    "\n",
    "    stats_dict = {}\n",
    "    for name, data in data_dict.items():\n",
    "        stats = data.describe()\n",
    "        stats['range'] = stats['max'] - stats['min']\n",
    "        stats['median'] = data.median()\n",
    "        stats_dict[name] = stats\n",
    "\n",
    "    comparison_df = pd.DataFrame(stats_dict)\n",
    "\n",
    "    desired_order = ['count', 'mean', 'median', 'std', 'min', '25%', '50%', '75%', 'max', 'range']\n",
    "    comparison_df = comparison_df.reindex(desired_order)\n",
    "\n",
    "    # Round all values to 2 decimal places\n",
    "    comparison_df = comparison_df.round(2)\n",
    "\n",
    "    # Convert 'count' to integer\n",
    "    comparison_df.loc['count'] = comparison_df.loc['count'].astype(int)\n",
    "\n",
    "    return comparison_df\n",
    "\n",
    "# Generate and display our comparison dataframe\n",
    "comparison = compare_statistics(house_prices, cleaned_prices, capped_prices, transformed_prices)\n",
    "print(comparison)"
   ]
  },
  {
   "cell_type": "markdown",
   "id": "7a9f09e2",
   "metadata": {},
   "source": [
    "Notice how each method changes the statistics of our dataset. Removing outliers eliminates extreme values entirely, capping brings them closer to the rest of the data, and transformation changes the scale of all our data points."
   ]
  },
  {
   "cell_type": "markdown",
   "id": "2bd2ee52",
   "metadata": {},
   "source": [
    "### Summary\n",
    "\n",
    "Dealing with outliers is as much an art as it is a science. It requires a combination of statistical techniques, domain knowledge, and careful consideration of your analysis goals. By understanding how to identify, investigate, and treat outliers, you're well on your way to becoming a skilled data scientist!\n",
    "\n",
    "Remember:\n",
    "\n",
    "- Always visualize your data to get a feel for potential outliers.\n",
    "- Investigate outliers before deciding how to treat them.\n",
    "- Choose your treatment method based on the nature of your data and the goals of your analysis.\n",
    "- Document your decisions about outlier treatment for transparency."
   ]
  },
  {
   "cell_type": "markdown",
   "id": "57d09d2e",
   "metadata": {},
   "source": [
    "# Examining Univariate Relationships\n",
    "\n",
    "## Introduction\n",
    "\n",
    "In the world of data science, examining univariate relationships is like getting to know each player on a sports team individually before seeing how they play together. It's a crucial step in Exploratory Data Analysis (EDA) where we look at each variable in our dataset one at a time.\n",
    "\n",
    "\n",
    "## What are Univariate Relationships?\n",
    "\n",
    "Univariate analysis involves examining each variable in your dataset separately. The \"uni\" in univariate means \"one,\" so we're looking at one variable at a time. \n",
    "\n",
    "This helps us understand:\n",
    "\n",
    "- The distribution of the variable\n",
    "- Central tendencies (mean, median, mode)\n",
    "- Spread or dispersion (range, variance, standard deviation)\n",
    "- Presence of outliers\n",
    "- The shape of the distribution (symmetric, skewed, bimodal, etc.)\n",
    "\n",
    "## Why is Examining Univariate Relationships Important?\n",
    "\n",
    "- Data Understanding: It gives you a fundamental understanding of your data.\n",
    "- Data Quality Check: It can reveal data quality issues like missing values or outliers.\n",
    "- Assumption Checking: Many statistical tests assume certain distributions, so this step helps you choose appropriate analyses.\n",
    "- Feature Engineering Insights: It can suggest useful transformations or new features to create."
   ]
  },
  {
   "cell_type": "markdown",
   "id": "341f1164",
   "metadata": {},
   "source": [
    "## How to Examine Univariate Relationships\n",
    "\n",
    "Let's walk through some common techniques for examining univariate relationships. We will create a dummy car dataset that we can use for our examples:\n"
   ]
  },
  {
   "cell_type": "code",
   "execution_count": null,
   "id": "84d4af04",
   "metadata": {},
   "outputs": [
    {
     "ename": "",
     "evalue": "",
     "output_type": "error",
     "traceback": [
      "\u001b[1;31mThe kernel failed to start as 'cursor_in_leading_ws' could not be imported from '/Users/drjodyannjones/opt/anaconda3/lib/python3.9/site-packages/IPython/terminal/shortcuts/__init__.py'.\n",
      "\u001b[1;31mClick <a href='https://aka.ms/kernelFailuresModuleImportErrFromFile'>here</a> for more info."
     ]
    }
   ],
   "source": [
    "import pandas as pd\n",
    "import numpy as np\n",
    "import matplotlib.pyplot as plt\n",
    "import seaborn as sns\n",
    "import os\n",
    "\n",
    "# Get the path to the directory one level up\n",
    "parent_dir = os.path.dirname(os.getcwd())\n",
    "\n",
    "# Define the path to the 'datasets' folder\n",
    "datasets_dir = os.path.join(parent_dir, 'datasets')\n",
    "\n",
    "# Create 'datasets' folder if it doesn't exist\n",
    "if not os.path.exists(datasets_dir):\n",
    "    os.makedirs(datasets_dir)\n",
    "\n",
    "# Set random seed for reproducibility\n",
    "np.random.seed(42)\n",
    "\n",
    "# Generate data\n",
    "n_samples = 1000\n",
    "\n",
    "# Numerical features\n",
    "price = np.random.lognormal(10, 0.5, n_samples)\n",
    "horsepower = np.random.normal(200, 30, n_samples)\n",
    "mpg = np.random.normal(25, 5, n_samples)\n",
    "age = np.random.randint(0, 20, n_samples)\n",
    "\n",
    "# Categorical features\n",
    "manufacturers = ['Toyota', 'Honda', 'Ford', 'BMW', 'Mercedes', 'Audi']\n",
    "manufacturer = np.random.choice(manufacturers, n_samples)\n",
    "\n",
    "fuel_types = ['Gasoline', 'Diesel', 'Electric', 'Hybrid']\n",
    "fuel_type = np.random.choice(fuel_types, n_samples, p=[0.6, 0.2, 0.1, 0.1])\n",
    "\n",
    "transmission = np.random.choice(['Automatic', 'Manual'], n_samples, p=[0.7, 0.3])\n",
    "\n",
    "# Create DataFrame\n",
    "df = pd.DataFrame({\n",
    "    'price': price,\n",
    "    'horsepower': horsepower,\n",
    "    'mpg': mpg,\n",
    "    'age': age,\n",
    "    'manufacturer': manufacturer,\n",
    "    'fuel_type': fuel_type,\n",
    "    'transmission': transmission\n",
    "})\n",
    "\n",
    "# Display the first few rows and data info\n",
    "print(df.head())\n",
    "print(\"\\nDataset Info:\")\n",
    "print(df.info())\n",
    "\n",
    "# Save the dataset to a CSV file in the 'datasets' folder\n",
    "file_path = os.path.join(datasets_dir, 'car_data.csv')\n",
    "df.to_csv(file_path, index=False)\n",
    "print(f\"\\nDataset saved as '{file_path}'\")\n",
    "\n",
    "# Load the dataset to verify\n",
    "df_loaded = pd.read_csv(file_path)\n",
    "print(\"\\nDataset loaded successfully. First few rows:\")\n",
    "print(df_loaded.head())"
   ]
  },
  {
   "cell_type": "markdown",
   "id": "a7cd9d8a",
   "metadata": {},
   "source": [
    "### 1. Descriptive Statistics\n",
    "\n",
    "Descriptive statistics give us a quick summary of the central tendency, dispersion, and shape of a variable's distribution."
   ]
  },
  {
   "cell_type": "code",
   "execution_count": null,
   "id": "e3a78cd5",
   "metadata": {},
   "outputs": [
    {
     "ename": "",
     "evalue": "",
     "output_type": "error",
     "traceback": [
      "\u001b[1;31mThe kernel failed to start as 'cursor_in_leading_ws' could not be imported from '/Users/drjodyannjones/opt/anaconda3/lib/python3.9/site-packages/IPython/terminal/shortcuts/__init__.py'.\n",
      "\u001b[1;31mClick <a href='https://aka.ms/kernelFailuresModuleImportErrFromFile'>here</a> for more info."
     ]
    }
   ],
   "source": [
    "# Get descriptive statistics for numerical variables\n",
    "print(df.describe())\n",
    "\n",
    "# For categorical variables, we can look at value counts\n",
    "print(df['manufacturer'].value_counts())"
   ]
  },
  {
   "cell_type": "markdown",
   "id": "e832c8ec",
   "metadata": {},
   "source": [
    "### 2. Visualization Techniques\n",
    "\n",
    "Visualizations can provide intuitive understanding of the data distribution."
   ]
  },
  {
   "cell_type": "markdown",
   "id": "20a2827b",
   "metadata": {},
   "source": [
    "#### For Numerical Variables:"
   ]
  },
  {
   "cell_type": "code",
   "execution_count": null,
   "id": "d4efb084",
   "metadata": {},
   "outputs": [
    {
     "ename": "",
     "evalue": "",
     "output_type": "error",
     "traceback": [
      "\u001b[1;31mThe kernel failed to start as 'cursor_in_leading_ws' could not be imported from '/Users/drjodyannjones/opt/anaconda3/lib/python3.9/site-packages/IPython/terminal/shortcuts/__init__.py'.\n",
      "\u001b[1;31mClick <a href='https://aka.ms/kernelFailuresModuleImportErrFromFile'>here</a> for more info."
     ]
    }
   ],
   "source": [
    "# Histogram\n",
    "plt.figure(figsize=(10, 6))\n",
    "plt.hist(df['price'], bins=30)\n",
    "plt.title('Distribution of Car Prices')\n",
    "plt.xlabel('Price')\n",
    "plt.ylabel('Frequency')\n",
    "plt.show()"
   ]
  },
  {
   "cell_type": "code",
   "execution_count": null,
   "id": "0ed12a80",
   "metadata": {},
   "outputs": [
    {
     "ename": "",
     "evalue": "",
     "output_type": "error",
     "traceback": [
      "\u001b[1;31mThe kernel failed to start as 'cursor_in_leading_ws' could not be imported from '/Users/drjodyannjones/opt/anaconda3/lib/python3.9/site-packages/IPython/terminal/shortcuts/__init__.py'.\n",
      "\u001b[1;31mClick <a href='https://aka.ms/kernelFailuresModuleImportErrFromFile'>here</a> for more info."
     ]
    }
   ],
   "source": [
    "# Box plot\n",
    "\n",
    "plt.figure(figsize=(10, 6))\n",
    "sns.boxplot(x=df['horsepower'])\n",
    "plt.title('Box Plot of Horsepower')\n",
    "plt.show()"
   ]
  },
  {
   "cell_type": "markdown",
   "id": "f62906a9",
   "metadata": {},
   "source": [
    "#### For Categorical Variables:"
   ]
  },
  {
   "cell_type": "code",
   "execution_count": null,
   "id": "8e427718",
   "metadata": {},
   "outputs": [
    {
     "ename": "",
     "evalue": "",
     "output_type": "error",
     "traceback": [
      "\u001b[1;31mThe kernel failed to start as 'cursor_in_leading_ws' could not be imported from '/Users/drjodyannjones/opt/anaconda3/lib/python3.9/site-packages/IPython/terminal/shortcuts/__init__.py'.\n",
      "\u001b[1;31mClick <a href='https://aka.ms/kernelFailuresModuleImportErrFromFile'>here</a> for more info."
     ]
    }
   ],
   "source": [
    "# Bar plot\n",
    "\n",
    "plt.figure(figsize=(12, 6))\n",
    "df['manufacturer'].value_counts(ascending=True).plot(kind='barh')\n",
    "plt.title('Count of Cars by Manufacturer')\n",
    "plt.xlabel('Manufacturer')\n",
    "plt.ylabel('Count')\n",
    "plt.xticks(rotation=45)\n",
    "plt.show()"
   ]
  },
  {
   "cell_type": "markdown",
   "id": "6b303f97",
   "metadata": {},
   "source": [
    "#### Checking for Normality"
   ]
  },
  {
   "cell_type": "code",
   "execution_count": null,
   "id": "4ababe5d",
   "metadata": {},
   "outputs": [
    {
     "ename": "",
     "evalue": "",
     "output_type": "error",
     "traceback": [
      "\u001b[1;31mThe kernel failed to start as 'cursor_in_leading_ws' could not be imported from '/Users/drjodyannjones/opt/anaconda3/lib/python3.9/site-packages/IPython/terminal/shortcuts/__init__.py'.\n",
      "\u001b[1;31mClick <a href='https://aka.ms/kernelFailuresModuleImportErrFromFile'>here</a> for more info."
     ]
    }
   ],
   "source": [
    "# Q-Q plot\n",
    "\n",
    "from scipy import stats\n",
    "\n",
    "plt.figure(figsize=(10, 6))\n",
    "stats.probplot(df['mpg'], dist=\"norm\", plot=plt)\n",
    "plt.title(\"Q-Q Plot of Miles Per Gallon\")\n",
    "plt.show()"
   ]
  },
  {
   "cell_type": "code",
   "execution_count": null,
   "id": "0c159a84",
   "metadata": {},
   "outputs": [
    {
     "ename": "",
     "evalue": "",
     "output_type": "error",
     "traceback": [
      "\u001b[1;31mThe kernel failed to start as 'cursor_in_leading_ws' could not be imported from '/Users/drjodyannjones/opt/anaconda3/lib/python3.9/site-packages/IPython/terminal/shortcuts/__init__.py'.\n",
      "\u001b[1;31mClick <a href='https://aka.ms/kernelFailuresModuleImportErrFromFile'>here</a> for more info."
     ]
    }
   ],
   "source": [
    "# Shapiro-Wilk test\n",
    "\n",
    "_, p_value = stats.shapiro(df['mpg'])\n",
    "print(f\"Shapiro-Wilk test p-value: {p_value}\")\n",
    "print(\"If p-value > 0.05, the distribution is likely normal.\")"
   ]
  },
  {
   "cell_type": "markdown",
   "id": "c5cc1df8",
   "metadata": {},
   "source": [
    "The Shapiro-Wilk test statistic (W) ranges between 0 and 1, where:\n",
    "\n",
    "- 1 indicates perfect normality, meaning the data perfectly follows a normal distribution.\n",
    "- Values closer to 1 indicate a closer fit to a normal distribution.\n",
    "- Values closer to 0 indicate a poor fit to a normal distribution."
   ]
  },
  {
   "cell_type": "markdown",
   "id": "84dd2369",
   "metadata": {},
   "source": [
    "## Interpreting the Results\n",
    "\n",
    "When examining univariate relationships, look for:\n",
    "\n",
    "- Central Tendency: Where is the \"center\" of your data?\n",
    "- Spread: How dispersed is your data?\n",
    "- Shape: Is it symmetric? Skewed? Bimodal?\n",
    "- Unusual Values: Are there outliers or unexpected patterns?\n",
    "\n",
    "For example, if you see that the 'price' variable is right-skewed (long tail on the right), you might consider a log transformation before using it in certain analyses.\n",
    "\n",
    "## Summary\n",
    "Examining univariate relationships is a foundational step in EDA. It gives you a solid understanding of each variable in your dataset, which is crucial for making informed decisions in later stages of your analysis. Remember, the goal is to become intimately familiar with your data, one variable at a time!\n",
    "\n",
    "## Exercise\n",
    "\n",
    "- Load a dataset of your choice (or use a built-in dataset like iris or titanic).\n",
    "- Choose one numerical and one categorical variable.\n",
    "- Perform a univariate analysis on each, including descriptive statistics and at least one visualization.\n",
    "- Interpret your results: What did you learn about each variable?"
   ]
  },
  {
   "cell_type": "markdown",
   "id": "bdb0c1a8",
   "metadata": {},
   "source": [
    "# Examine Bivariate Relationships\n",
    "\n",
    "## Introduction\n",
    "\n",
    "After exploring individual variables, the next step in Exploratory Data Analysis (EDA) is to examine bivariate relationships. This involves looking at how pairs of variables interact with each other, providing deeper insights into your dataset."
   ]
  },
  {
   "cell_type": "markdown",
   "id": "67fd12b0",
   "metadata": {},
   "source": [
    "## What are Bivariate Relationships?\n",
    "\n",
    "Bivariate relationships refer to the associations or connections between two variables in a dataset. \n",
    "\n",
    "These relationships can be between:\n",
    "\n",
    "- Two numerical variables (e.g., price and horsepower)\n",
    "- A numerical and a categorical variable (e.g., price and manufacturer)\n",
    "- Two categorical variables (e.g., fuel type and transmission)"
   ]
  },
  {
   "cell_type": "markdown",
   "id": "2cef06c9",
   "metadata": {},
   "source": [
    "## Why is Examining Bivariate Relationships Important?\n",
    "\n",
    "- Insight Discovery: Reveals patterns and relationships that aren't visible when looking at variables individually.\n",
    "- Hypothesis Generation: Suggests potential cause-and-effect relationships for further investigation.\n",
    "- Feature Selection: Helps identify which variables might be most important for predictive modeling.\n",
    "- Assumption Checking: Many statistical tests and models assume certain relationships between variables.\n",
    "- Data Quality Assessment: Can reveal data issues like multicollinearity or unexpected relationships."
   ]
  },
  {
   "cell_type": "markdown",
   "id": "8443caf3",
   "metadata": {},
   "source": [
    "## How to Examine Bivariate Relationships"
   ]
  },
  {
   "cell_type": "code",
   "execution_count": null,
   "id": "e1f8692f",
   "metadata": {},
   "outputs": [
    {
     "ename": "",
     "evalue": "",
     "output_type": "error",
     "traceback": [
      "\u001b[1;31mThe kernel failed to start as 'cursor_in_leading_ws' could not be imported from '/Users/drjodyannjones/opt/anaconda3/lib/python3.9/site-packages/IPython/terminal/shortcuts/__init__.py'.\n",
      "\u001b[1;31mClick <a href='https://aka.ms/kernelFailuresModuleImportErrFromFile'>here</a> for more info."
     ]
    }
   ],
   "source": [
    "# Load Dataset if not already loaded\n",
    "\n",
    "import os\n",
    "import pandas as pd\n",
    "import numpy as np\n",
    "import matplotlib.pyplot as plt\n",
    "import seaborn as sns\n",
    "from scipy import stats\n",
    "\n",
    "parent_dir = os.path.dirname(os.getcwd())\n",
    "file_path = os.path.join(parent_dir, 'datasets', 'car_data.csv')\n",
    "df = pd.read_csv(file_path)\n",
    "\n",
    "print(\"Dataset loaded successfully. First few rows:\")\n",
    "print(df.head())"
   ]
  },
  {
   "cell_type": "markdown",
   "id": "8af04d4f",
   "metadata": {},
   "source": [
    "#### Numerical Methods"
   ]
  },
  {
   "cell_type": "markdown",
   "id": "71eb5800",
   "metadata": {},
   "source": [
    "##### For Two Numerical Variables:"
   ]
  },
  {
   "cell_type": "code",
   "execution_count": null,
   "id": "abf86b8f",
   "metadata": {},
   "outputs": [
    {
     "ename": "",
     "evalue": "",
     "output_type": "error",
     "traceback": [
      "\u001b[1;31mThe kernel failed to start as 'cursor_in_leading_ws' could not be imported from '/Users/drjodyannjones/opt/anaconda3/lib/python3.9/site-packages/IPython/terminal/shortcuts/__init__.py'.\n",
      "\u001b[1;31mClick <a href='https://aka.ms/kernelFailuresModuleImportErrFromFile'>here</a> for more info."
     ]
    }
   ],
   "source": [
    "# Correlation Coefficient:\n",
    "correlation = df['price'].corr(df['horsepower'])\n",
    "print(f\"Correlation between price and horsepower: {correlation:.2f}\")"
   ]
  },
  {
   "cell_type": "markdown",
   "id": "59851782",
   "metadata": {},
   "source": [
    "Correlation Coefficient\n",
    "\n",
    "The correlation coefficient, which ranges from -1 to +1, is a normalized measure of the covariance.\n",
    "\n",
    "- A correlation coefficient of 0 indicates no linear relationship between the variables.\n",
    "- A correlation coefficient of 1 or -1 indicates a perfect relationship between the variables.\n",
    "- A correlation coefficient close to +1 or -1 indicates a strong relationship between the variables.\n"
   ]
  },
  {
   "cell_type": "code",
   "execution_count": null,
   "id": "0ad4a6b0",
   "metadata": {},
   "outputs": [
    {
     "ename": "",
     "evalue": "",
     "output_type": "error",
     "traceback": [
      "\u001b[1;31mThe kernel failed to start as 'cursor_in_leading_ws' could not be imported from '/Users/drjodyannjones/opt/anaconda3/lib/python3.9/site-packages/IPython/terminal/shortcuts/__init__.py'.\n",
      "\u001b[1;31mClick <a href='https://aka.ms/kernelFailuresModuleImportErrFromFile'>here</a> for more info."
     ]
    }
   ],
   "source": [
    "# Covariance:\n",
    "covariance = df['price'].cov(df['horsepower'])\n",
    "print(f\"Covariance between price and horsepower: {covariance:.2f}\")"
   ]
  },
  {
   "cell_type": "markdown",
   "id": "2322778b",
   "metadata": {},
   "source": [
    "Covariance values can range from -∞ to +∞, with a negative value indicating a negative relationship and a positive value indicating a positive relationship. The magnitude of the covariance has no direct meaning, and only the sign is relevant.\n",
    "\n",
    "**Positive Covariance**\n",
    "\n",
    "Positive covariance denotes a direct relationship between the variables, represented by a positive number.\n",
    "\n",
    "The greater the positive covariance, the more reliant the relationship.\n",
    "\n",
    "\n",
    "**Negative Covariance**\n",
    "\n",
    "Negative covariance denotes an inverse relationship between the variables, represented by a negative number.\n",
    "\n",
    "The greater the negative covariance, the more reliant the relationship."
   ]
  },
  {
   "cell_type": "markdown",
   "id": "5d0e4d67",
   "metadata": {},
   "source": [
    "##### For Numerical and Categorical Variables:"
   ]
  },
  {
   "cell_type": "code",
   "execution_count": null,
   "id": "203dc5f3",
   "metadata": {},
   "outputs": [
    {
     "ename": "",
     "evalue": "",
     "output_type": "error",
     "traceback": [
      "\u001b[1;31mThe kernel failed to start as 'cursor_in_leading_ws' could not be imported from '/Users/drjodyannjones/opt/anaconda3/lib/python3.9/site-packages/IPython/terminal/shortcuts/__init__.py'.\n",
      "\u001b[1;31mClick <a href='https://aka.ms/kernelFailuresModuleImportErrFromFile'>here</a> for more info."
     ]
    }
   ],
   "source": [
    "# Group Statistics\n",
    "\n",
    "group_stats = df.groupby('manufacturer')['price'].agg(['mean', 'median', 'std']).round(2)\n",
    "print(\"Price statistics by manufacturer:\")\n",
    "print(group_stats)"
   ]
  },
  {
   "cell_type": "code",
   "execution_count": null,
   "id": "a69e3332",
   "metadata": {},
   "outputs": [
    {
     "ename": "",
     "evalue": "",
     "output_type": "error",
     "traceback": [
      "\u001b[1;31mThe kernel failed to start as 'cursor_in_leading_ws' could not be imported from '/Users/drjodyannjones/opt/anaconda3/lib/python3.9/site-packages/IPython/terminal/shortcuts/__init__.py'.\n",
      "\u001b[1;31mClick <a href='https://aka.ms/kernelFailuresModuleImportErrFromFile'>here</a> for more info."
     ]
    }
   ],
   "source": [
    "# ANOVA\n",
    "\n",
    "manufacturers = df['manufacturer'].unique()\n",
    "price_groups = [df[df['manufacturer'] == m]['price'] for m in manufacturers]\n",
    "f_statistic, p_value = stats.f_oneway(*price_groups)\n",
    "print(f\"ANOVA results for Price across Manufacturers:\")\n",
    "print(f\"F-statistic: {f_statistic:.2f}, p-value: {p_value:.4f}\")"
   ]
  },
  {
   "cell_type": "markdown",
   "id": "0960cdd3",
   "metadata": {},
   "source": [
    "Here's how we can interpret these ANOVA results:\n",
    "\n",
    "The one-way ANOVA was conducted to compare the prices across different manufacturers. \n",
    "\n",
    "The results show:\n",
    "\n",
    "- F-statistic: 0.99\n",
    "- p-value: 0.4213\n",
    "\n",
    "To interpret these results:\n",
    "\n",
    "1. F-statistic: The F-statistic of 0.99 is relatively small, suggesting that there is not much variation between the group means (prices of different manufacturers) compared to the variation within the groups[1][2].\n",
    "\n",
    "2. p-value: The p-value of 0.4213 is greater than the typical significance level of 0.05. This indicates that the differences in prices between manufacturers are not statistically significant[1][2][4].\n",
    "\n",
    "Given these results, we can conclude that:\n",
    "\n",
    "1. There is no statistically significant difference in prices across the different manufacturers.\n",
    "\n",
    "2. Any observed differences in prices between manufacturers are likely due to random chance rather than a true underlying difference[2][4].\n",
    "\n",
    "3. We fail to reject the null hypothesis, which typically states that all group means are equal.\n",
    "\n",
    "4. The data does not provide sufficient evidence to conclude that the manufacturer has a significant effect on the price of the products[1][2].\n",
    "\n",
    "In practical terms, this suggests that the choice of manufacturer does not significantly impact the pricing of the products in question. However, it's important to note that while there may not be a statistically significant difference, there could still be practical differences in pricing that might be relevant in a business context[2][4].\n",
    "\n",
    "Remember that ANOVA only tells us if there's a significant difference somewhere among the groups, not which specific groups differ. If the results had been significant, you would typically follow up with post-hoc tests to determine which specific manufacturers differ from each other[1][2][4].\n",
    "\n",
    "Citations:\n",
    "\n",
    "[1] https://support.minitab.com/en-us/minitab/help-and-how-to/statistical-modeling/anova/how-to/one-way-anova/interpret-the-results/key-results/\n",
    "\n",
    "[2] https://surveysparrow.com/blog/anova/\n",
    "\n",
    "[3] https://statistics.laerd.com/spss-tutorials/one-way-anova-using-spss-statistics-2.php\n",
    "\n",
    "[4] https://study.com/skill/learn/how-to-interpret-the-results-of-an-anova-f-test-using-technology-explanation.html\n",
    "\n",
    "[5] https://www.graphpad.com/guides/prism/latest/statistics/f_ratio_and_anova_table_%28one-way_anova%29.htm"
   ]
  },
  {
   "cell_type": "markdown",
   "id": "9883b45b",
   "metadata": {},
   "source": [
    "##### For Two Categorical Variables:"
   ]
  },
  {
   "cell_type": "code",
   "execution_count": null,
   "id": "2a92fc0f",
   "metadata": {},
   "outputs": [
    {
     "ename": "",
     "evalue": "",
     "output_type": "error",
     "traceback": [
      "\u001b[1;31mThe kernel failed to start as 'cursor_in_leading_ws' could not be imported from '/Users/drjodyannjones/opt/anaconda3/lib/python3.9/site-packages/IPython/terminal/shortcuts/__init__.py'.\n",
      "\u001b[1;31mClick <a href='https://aka.ms/kernelFailuresModuleImportErrFromFile'>here</a> for more info."
     ]
    }
   ],
   "source": [
    "# Chi square test\n",
    "\n",
    "contingency_table = pd.crosstab(df['fuel_type'], df['transmission'])\n",
    "chi2, p_value, dof, expected = stats.chi2_contingency(contingency_table)\n",
    "print(f\"Chi-square test results for fuel type and transmission:\")\n",
    "print(f\"Chi-square statistic: {chi2:.2f}, p-value: {p_value:.4f}\")"
   ]
  },
  {
   "cell_type": "markdown",
   "id": "5050828a",
   "metadata": {},
   "source": [
    "Here's how to interpret these results:\n",
    "\n",
    "1. Chi-square statistic:\n",
    "   The chi-square statistic of 3.12 measures the overall difference between the observed frequencies and the expected frequencies in the contingency table of fuel type and transmission. A larger value would indicate a greater difference between observed and expected frequencies.\n",
    "\n",
    "2. p-value:\n",
    "   The p-value of 0.3736 is crucial for interpretation. This value is higher than the typical significance levels (0.05 or 0.01) used in statistical testing.\n",
    "\n",
    "Interpretation:\n",
    "\n",
    "1. Statistical Significance:\n",
    "   Since the p-value (0.3736) is greater than the common significance level of 0.05, we fail to reject the null hypothesis. This means that the observed difference between fuel type and transmission is not statistically significant.\n",
    "\n",
    "2. Independence:\n",
    "   The results suggest that there is no significant association between fuel type and transmission type. In other words, the choice of fuel type appears to be independent of the transmission type, and vice versa.\n",
    "\n",
    "3. Practical Implications:\n",
    "   - The data does not provide evidence of a relationship between fuel type and transmission type.\n",
    "   - Any observed differences in the distribution of fuel types across different transmission types (or vice versa) are likely due to random chance rather than a true underlying association.\n",
    "\n",
    "4. Caution:\n",
    "   While the test doesn't show a significant relationship, it doesn't prove that there is absolutely no relationship. It only indicates that if there is a relationship, it's not strong enough to be detected with this sample size and at this significance level.\n",
    "\n",
    "5. Further Considerations:\n",
    "   - It might be worth examining the contingency table to see if there are any notable patterns, even if they're not statistically significant.\n",
    "   - Consider whether the sample size was large enough to detect a meaningful difference if one exists.\n",
    "\n",
    "In summary, based on these chi-square test results, we don't have sufficient evidence to conclude that there's a significant association between fuel type and transmission type in the dataset. The choice of fuel type appears to be independent of the transmission type, and any observed differences are likely due to random variation."
   ]
  },
  {
   "cell_type": "markdown",
   "id": "be916715",
   "metadata": {},
   "source": [
    "### Visualization Techniques"
   ]
  },
  {
   "cell_type": "markdown",
   "id": "c64144ab",
   "metadata": {},
   "source": [
    "#### For Two Numerical Variables:"
   ]
  },
  {
   "cell_type": "code",
   "execution_count": null,
   "id": "08ef2496",
   "metadata": {},
   "outputs": [
    {
     "ename": "",
     "evalue": "",
     "output_type": "error",
     "traceback": [
      "\u001b[1;31mThe kernel failed to start as 'cursor_in_leading_ws' could not be imported from '/Users/drjodyannjones/opt/anaconda3/lib/python3.9/site-packages/IPython/terminal/shortcuts/__init__.py'.\n",
      "\u001b[1;31mClick <a href='https://aka.ms/kernelFailuresModuleImportErrFromFile'>here</a> for more info."
     ]
    }
   ],
   "source": [
    "# Scatterplot\n",
    "\n",
    "plt.figure(figsize=(10, 6))\n",
    "plt.scatter(df['horsepower'], df['price'])\n",
    "plt.title('Price vs. Horsepower')\n",
    "plt.xlabel('Horsepower')\n",
    "plt.ylabel('Price')\n",
    "plt.show()"
   ]
  },
  {
   "cell_type": "code",
   "execution_count": null,
   "id": "3d891b63",
   "metadata": {},
   "outputs": [
    {
     "ename": "",
     "evalue": "",
     "output_type": "error",
     "traceback": [
      "\u001b[1;31mThe kernel failed to start as 'cursor_in_leading_ws' could not be imported from '/Users/drjodyannjones/opt/anaconda3/lib/python3.9/site-packages/IPython/terminal/shortcuts/__init__.py'.\n",
      "\u001b[1;31mClick <a href='https://aka.ms/kernelFailuresModuleImportErrFromFile'>here</a> for more info."
     ]
    }
   ],
   "source": [
    "# Heatmap (for multiple numerical variables):\n",
    "\n",
    "correlation_matrix = df[['price', 'horsepower', 'mpg', 'age']].corr()\n",
    "plt.figure(figsize=(10, 8))\n",
    "sns.heatmap(correlation_matrix, annot=True, cmap='mako', vmin=-1, vmax=1, center=0)\n",
    "plt.title('Correlation Heatmap of Numerical Variables')\n",
    "plt.show()"
   ]
  },
  {
   "cell_type": "markdown",
   "id": "e84c603a",
   "metadata": {},
   "source": [
    "#### For Numerical and Categorical Variables:"
   ]
  },
  {
   "cell_type": "code",
   "execution_count": null,
   "id": "f0b7b157",
   "metadata": {},
   "outputs": [
    {
     "ename": "",
     "evalue": "",
     "output_type": "error",
     "traceback": [
      "\u001b[1;31mThe kernel failed to start as 'cursor_in_leading_ws' could not be imported from '/Users/drjodyannjones/opt/anaconda3/lib/python3.9/site-packages/IPython/terminal/shortcuts/__init__.py'.\n",
      "\u001b[1;31mClick <a href='https://aka.ms/kernelFailuresModuleImportErrFromFile'>here</a> for more info."
     ]
    }
   ],
   "source": [
    "# Box Plot\n",
    "\n",
    "plt.figure(figsize=(12, 6))\n",
    "sns.boxplot(x='manufacturer', y='price', data=df)\n",
    "plt.title('Price Distribution by Manufacturer')\n",
    "plt.xticks(rotation=45)\n",
    "plt.show()"
   ]
  },
  {
   "cell_type": "code",
   "execution_count": null,
   "id": "5b56dab5",
   "metadata": {},
   "outputs": [
    {
     "ename": "",
     "evalue": "",
     "output_type": "error",
     "traceback": [
      "\u001b[1;31mThe kernel failed to start as 'cursor_in_leading_ws' could not be imported from '/Users/drjodyannjones/opt/anaconda3/lib/python3.9/site-packages/IPython/terminal/shortcuts/__init__.py'.\n",
      "\u001b[1;31mClick <a href='https://aka.ms/kernelFailuresModuleImportErrFromFile'>here</a> for more info."
     ]
    }
   ],
   "source": [
    "# Violin Plot\n",
    "\n",
    "plt.figure(figsize=(12, 6))\n",
    "sns.violinplot(x='fuel_type', y='mpg', data=df)\n",
    "plt.title('MPG Distribution by Fuel Type')\n",
    "plt.show()"
   ]
  },
  {
   "cell_type": "markdown",
   "id": "3ee4b280",
   "metadata": {},
   "source": [
    "# Violin Plot Interpretation Cheatsheet\n",
    "\n",
    "| **Feature**         | **Description**                                                                                 | **What to Look Out For**                                                                       |\n",
    "|---------------------|-------------------------------------------------------------------------------------------------|------------------------------------------------------------------------------------------------|\n",
    "| **Shape**           | Width represents the density of data points at different values. Wider sections indicate higher density.  | Identify where the distribution is most concentrated; observe skewness and modality (uni- or bimodal).   |\n",
    "| **Median**          | Often shown as a white dot or a central line within the thick bar, representing the middle value of the data. | Check the central tendency of the data. Compare medians across different groups.              |\n",
    "| **Interquartile Range (IQR)** | Thick black bar showing the range between the 25th percentile (Q1) and the 75th percentile (Q3). Central 50% of the data. | Assess the spread and variability of the central half of the data. Narrow IQR indicates less variability. |\n",
    "| **Overall Range**   | Thin line (whisker) extending from the thick bar, indicating the full spread of the data (excluding outliers). | Understand the full spread and range of the data. Look for any extreme values.                |\n",
    "| **Outliers**        | Data points outside the typical range, sometimes marked separately.                             | Identify any unusual or extreme values that could affect the interpretation of the data.      |\n",
    "| **Symmetry**        | Symmetric plots indicate symmetric distributions; asymmetry suggests skewness.                  | Look for balance around the center line. Asymmetry indicates potential skew in the data.      |\n",
    "| **Peak(s)**         | Peaks indicate the most common values. One peak suggests unimodal distribution; multiple peaks suggest multimodal distribution. | Note the number and location of peaks to understand common values and distribution shape.     |\n",
    "| **Width Variability** | Changes in width along the y-axis indicate varying densities across values.                    | Observe where density increases or decreases. Consistent width suggests uniform density.      |\n"
   ]
  },
  {
   "cell_type": "markdown",
   "id": "e533a204",
   "metadata": {},
   "source": [
    "# Correlations"
   ]
  },
  {
   "cell_type": "code",
   "execution_count": null,
   "id": "05d9fce9",
   "metadata": {},
   "outputs": [
    {
     "ename": "",
     "evalue": "",
     "output_type": "error",
     "traceback": [
      "\u001b[1;31mThe kernel failed to start as 'cursor_in_leading_ws' could not be imported from '/Users/drjodyannjones/opt/anaconda3/lib/python3.9/site-packages/IPython/terminal/shortcuts/__init__.py'.\n",
      "\u001b[1;31mClick <a href='https://aka.ms/kernelFailuresModuleImportErrFromFile'>here</a> for more info."
     ]
    }
   ],
   "source": []
  },
  {
   "cell_type": "code",
   "execution_count": null,
   "id": "87d77487",
   "metadata": {},
   "outputs": [
    {
     "ename": "",
     "evalue": "",
     "output_type": "error",
     "traceback": [
      "\u001b[1;31mThe kernel failed to start as 'cursor_in_leading_ws' could not be imported from '/Users/drjodyannjones/opt/anaconda3/lib/python3.9/site-packages/IPython/terminal/shortcuts/__init__.py'.\n",
      "\u001b[1;31mClick <a href='https://aka.ms/kernelFailuresModuleImportErrFromFile'>here</a> for more info."
     ]
    }
   ],
   "source": []
  },
  {
   "cell_type": "code",
   "execution_count": null,
   "id": "0342e0b8",
   "metadata": {},
   "outputs": [
    {
     "ename": "",
     "evalue": "",
     "output_type": "error",
     "traceback": [
      "\u001b[1;31mThe kernel failed to start as 'cursor_in_leading_ws' could not be imported from '/Users/drjodyannjones/opt/anaconda3/lib/python3.9/site-packages/IPython/terminal/shortcuts/__init__.py'.\n",
      "\u001b[1;31mClick <a href='https://aka.ms/kernelFailuresModuleImportErrFromFile'>here</a> for more info."
     ]
    }
   ],
   "source": []
  },
  {
   "cell_type": "markdown",
   "id": "564ec9e2",
   "metadata": {},
   "source": [
    "# Aggregates"
   ]
  },
  {
   "cell_type": "markdown",
   "id": "379e28be",
   "metadata": {},
   "source": []
  }
 ],
 "metadata": {
  "kernelspec": {
   "display_name": "Python 3 (ipykernel)",
   "language": "python",
   "name": "python3"
  },
  "language_info": {
   "codemirror_mode": {
    "name": "ipython",
    "version": 3
   },
   "file_extension": ".py",
   "mimetype": "text/x-python",
   "name": "python",
   "nbconvert_exporter": "python",
   "pygments_lexer": "ipython3",
   "version": "3.8.17"
  }
 },
 "nbformat": 4,
 "nbformat_minor": 5
}
